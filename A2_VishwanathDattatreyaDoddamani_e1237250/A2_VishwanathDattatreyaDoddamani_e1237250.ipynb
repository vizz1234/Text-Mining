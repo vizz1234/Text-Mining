{
 "cells": [
  {
   "cell_type": "markdown",
   "id": "284ea055-f480-4ad0-ac86-0da4eab5fc50",
   "metadata": {},
   "source": [
    "# Assignment 2: Text Representation & Text Similarity\n",
    "\n",
    "Hello everyone, this assignment notebook covers **Text Representation** and **Text Similarity**. There are some code-completion tasks and some questions in this notebook. For each code completion task, please write down your answer (i.e., your lines of code) between sentences that `Your code starts here` and `Your code ends here`. The space between these two lines does not reflect the required or expected lines of code.\n",
    "\n",
    "When you work on this notebook, you can insert additional code cells (e.g., for testing) or markdown cells (e.g., to keep track of your thoughts). However, before the submission, please remove all those additional cells again. Thanks!\n",
    "\n",
    "**Important:** \n",
    "* Remember to rename and save this Jupyter notebook as **A2_YourName_YourNUSNETID.ipynb** (e.g., **A2_BobSmith_e12345678.ipynb**) before submission!\n",
    "* Remember to rename and save the script file **A2.py** as **A2_YourName_YourNUSNETID.py** (e.g., **A2_BobSmith_e12345678.py**) before submission!\n",
    "* Submission deadline is Tuesday, Mar 5, 11.59 pm. Late submissions will be penalized by 10% for each additional day.\n",
    "<!-- * **Do not change any predefined variable names!** For example in Task 1.1 a), you need to find the correct RegEx as value for the variable named `pattern_11a`; do not change this variable name! -->\n",
    "\n",
    "Please also add your NUSNET and student id in the code cell below. This is just to make any identification of your notebook doubly sure."
   ]
  },
  {
   "cell_type": "code",
   "execution_count": 1,
   "id": "bf5401c5-de2f-4085-a7fc-beb7c8b59265",
   "metadata": {},
   "outputs": [],
   "source": [
    "student_id = 'A0286188L'\n",
    "nusnet_id = 'E1237250'"
   ]
  },
  {
   "cell_type": "markdown",
   "id": "299c0b2b-6bbf-4ed6-a06c-6d7ecdf7a045",
   "metadata": {},
   "source": [
    "Here is an overview over the tasks to be solved and the points associated with each task. The notebook can appear very long and verbose, but note that a lot of parts are there to provide additional explanations, documentation, or some discussion. The code and markdown cells you are supposed to complete are well marked, but you can use the overview below to double-check that you covered everything.\n",
    "\n",
    "* **1 TF-IDF Vectorization (15 Points)**\n",
    "    * 1.1 Hand-Crafted Features (3 Points)\n",
    "    * 1.2 Basic Implementation of a TF-IDF Vectorizer (6 Points)\n",
    "        * 1.2 a) Calculating IDF Weights (3 Points)\n",
    "        * 1.2 b) Generating Document Vectors (3 Points)\n",
    "    * 1.3 N-Gram Support (6 Points)\n",
    "        * 1.3 a) Computing Corpus N-Grams (3 Points)\n",
    "        * 1.3 b) Upper Bound for the Number of N-Grams (3 Points)\n",
    "* **2 K-Nearest Neighbor (15 Points)**\n",
    "    * 2.1 Implementation of K-Nearest Neighbor Classifier (8 Points)\n",
    "        * 2.1 a) Calculate Pairwise Distances (4 Points)\n",
    "        * 2.2 b) Predict Class Labels (4 Points)\n",
    "    * 2.2 Questions (7 Points)\n",
    "        * 2.2 a) Comparison with \"Pure\" scitkit-learn Solution (4 Points)\n",
    "        * 2.2 b) Hyperparameter Tuning (3 Points)\n",
    "* **3 Clustering & AGNES (20 Points)**\n",
    "    * 3.1 Implementing AGNES (10 Points)\n",
    "        * 3.1 a) Calculating the Distances between 2 Clusters (2 Points)\n",
    "        * 3.1 b) Generating the Distance Matrix (3 Points)\n",
    "        * 3.1 c) Find all Clusterings (5 Points)\n",
    "    * 3.2 Questions about Clustering (9 Points)\n",
    "        * 3.2 a) Comparing AGNES Linkage Methods (3 Points)\n",
    "        * 3.2 b) Questions about K-Means (7 Points)"
   ]
  },
  {
   "cell_type": "markdown",
   "id": "6ac5ddb0-a60d-4504-8c50-e30b70fa1bf1",
   "metadata": {
    "tags": []
   },
   "source": [
    "### Notebook Setup\n",
    "\n",
    "The following code cell ensures that the `.py` file gets automatically reloaded after you save any changes."
   ]
  },
  {
   "cell_type": "code",
   "execution_count": 2,
   "id": "b20f14da-a428-4882-b730-63adffeeb32e",
   "metadata": {},
   "outputs": [],
   "source": [
    "%load_ext autoreload\n",
    "%autoreload 2"
   ]
  },
  {
   "cell_type": "code",
   "execution_count": 3,
   "id": "b819bb6d-dfba-497d-948a-690fc39bb0f3",
   "metadata": {},
   "outputs": [
    {
     "ename": "ModuleNotFoundError",
     "evalue": "No module named 'src'",
     "output_type": "error",
     "traceback": [
      "\u001b[0;31m---------------------------------------------------------------------------\u001b[0m",
      "\u001b[0;31mModuleNotFoundError\u001b[0m                       Traceback (most recent call last)",
      "Cell \u001b[0;32mIn[3], line 12\u001b[0m\n\u001b[1;32m      9\u001b[0m np\u001b[38;5;241m.\u001b[39mset_printoptions(precision\u001b[38;5;241m=\u001b[39m\u001b[38;5;241m2\u001b[39m)\n\u001b[1;32m     11\u001b[0m \u001b[38;5;66;03m# Auxiliary code for generating plots (feel free to have a look)\u001b[39;00m\n\u001b[0;32m---> 12\u001b[0m \u001b[38;5;28;01mfrom\u001b[39;00m \u001b[38;5;21;01msrc\u001b[39;00m\u001b[38;5;21;01m.\u001b[39;00m\u001b[38;5;21;01mutils\u001b[39;00m \u001b[38;5;28;01mimport\u001b[39;00m plot_agnes_clustering\n",
      "\u001b[0;31mModuleNotFoundError\u001b[0m: No module named 'src'"
     ]
    }
   ],
   "source": [
    "import re, json\n",
    "import numpy as np\n",
    "import pandas as pd\n",
    "from sklearn.feature_extraction.text import TfidfVectorizer\n",
    "from sklearn.neighbors import KNeighborsClassifier\n",
    "from sklearn.model_selection import train_test_split\n",
    "from sklearn.metrics import f1_score\n",
    "\n",
    "np.set_printoptions(precision=2)\n",
    "\n",
    "# Auxiliary code for generating plots (feel free to have a look)\n",
    "from src.utils import plot_agnes_clustering"
   ]
  },
  {
   "cell_type": "markdown",
   "id": "c83de6f8-642d-44e8-bf7f-22d0133cc17d",
   "metadata": {},
   "source": [
    "**Important:** This notebook also requires you to complete in a separate `.py` script file. This keeps this notebook cleaner and simplifies testing your implementations for us. As you need to rename the file `A2.py`, you also need to edit the import statement below accordingly."
   ]
  },
  {
   "cell_type": "code",
   "execution_count": 4,
   "id": "30701333-e323-438d-b086-c8eccc0cfa69",
   "metadata": {},
   "outputs": [],
   "source": [
    "from A2_VishwanathDattatreyaDoddamani_e1237250 import MyTfidfVectorizer, MyAgglomerativeClustering, MyKNeighborsClassifier, euclidean_distances\n",
    "#from A2_BobSmith_e12345678 import MyTfidfVectorizer, MyAgglomerativeClustering, MyKNeighborsClassifier, euclidean_distances"
   ]
  },
  {
   "cell_type": "markdown",
   "id": "acc9702f-092e-4386-9598-fecb06073e9f",
   "metadata": {
    "tags": []
   },
   "source": [
    "### Dataset Preparation\n",
    "\n",
    "Throughout this notebook, we will use the same toy corpus -- already in the preprocessing form -- we used in the lecture. This allows us to directly compare the result with the lecture slides. And given its tiny size, there will be no worries regarding runtime issues :)."
   ]
  },
  {
   "cell_type": "code",
   "execution_count": 5,
   "id": "ff5a1eea-6577-4534-a783-3bedc5f3217b",
   "metadata": {},
   "outputs": [
    {
     "name": "stdout",
     "output_type": "stream",
     "text": [
      "['mayor', 'elect', 'term', 'term']\n",
      "['mayor', 'goal', 'term', 'win']\n",
      "['goal', 'term', 'win', 'vote']\n",
      "['term', 'goal', 'term', 'goal']\n",
      "['goal', 'team', 'player', 'win']\n",
      "['win', 'team', 'win', 'player']\n",
      "['player', 'vote', 'player', 'term']\n"
     ]
    }
   ],
   "source": [
    "toy_corpus, toy_labels = [], []\n",
    "\n",
    "with open(\"data/a2-toy-corpus-preprocessed.txt\") as file:\n",
    "    for line in file:\n",
    "        sentence, label = line.strip().split(\"\\t\")\n",
    "        toy_corpus.append(sentence.split())\n",
    "        toy_labels.append(label)\n",
    "\n",
    "y_toy_train = np.array(toy_labels)        \n",
    "        \n",
    "for doc in toy_corpus:\n",
    "    print(doc)"
   ]
  },
  {
   "cell_type": "markdown",
   "id": "27d94245-24b0-4467-af91-bc676439e775",
   "metadata": {},
   "source": [
    "---"
   ]
  },
  {
   "cell_type": "markdown",
   "id": "efefb4a6-78c7-492b-af36-533253cc2bcc",
   "metadata": {
    "tags": []
   },
   "source": [
    "## 1 Feature Extraction (Document Vectorization)\n",
    "\n",
    "We saw that, from the perspective of working with and analyzing it, text is not really convenient data. Text documents can generally be of arbitrary length, and words/tokens -- as the important meaningful building blocks -- are only nominal data. Or simply speaking, words are just labels, at least to a machine or algorithm. However, most techniques and algorithms for text mining methods require input to be numerical and of a fixed size. This is where the notion of *feature extractions* or *document vectorization* come in. The fundamental goal is to convert each text document in a corpus into a fixed-size vector, with the vector elements being numeric and their values set in such a way that they represent some characteristics of the document in a meaningful way."
   ]
  },
  {
   "cell_type": "markdown",
   "id": "66086117-2025-44fb-bfb1-03d6e97eaf7e",
   "metadata": {
    "tags": []
   },
   "source": [
    "### 1.1 Hand-Crafted Features (4 Points)\n",
    "\n",
    "One alternative we mentioned was the \"manual\" identification and extraction of handcrafted features. Here, we have to decide which numeric characteristics we deem meaningful for a given text mining task. In the lecture, we used the task of Sentiment Analysis as an example and considered features such as the length of a document, the number of positive/negative emoticons, the number of positive/negative words, etc. So as a warm-up exercise let's implement the extraction of hand-crafted features for a very simple Sentiment Analysis setup. To keep it simple, we want to extract the following features:\n",
    "\n",
    "* Number of all characters\n",
    "* Number of non-whitespace characters in the text\n",
    "* Number of uppercase words (e.g., \"NICE\", \"HAPPY\")\n",
    "* Number of \"positive\" words (e.g., \"happy\", \"great\")\n",
    "* Number of \"negative\" words (e.g., \"lonely\", \"sad\")\n",
    "* Number of exclamation marks\n",
    "\n",
    "Regarding the list of \"positive\" and \"negative\" words, there are many comprehensive word lists publicly available for download. To keep it simple, we assume the following two lists with \"positive\" and \"negative\" words. Additionally, we can utilize a word list that contains common Internet slang."
   ]
  },
  {
   "cell_type": "code",
   "execution_count": 6,
   "id": "e7b2cb19-18a3-454d-939b-285efd78f3cf",
   "metadata": {},
   "outputs": [],
   "source": [
    "WORDLIST_POSITIVE = ['happy', 'great', 'nice', 'awesome', 'joyful']\n",
    "WORDLIST_NEGATIVE = ['sad', 'horrible', 'boring', 'lonely', 'cruel']\n",
    "\n",
    "WORDLIST_SLANG = ['lol', 'rofl', 'lmao', 'wtf', 'ftw', 'imo']"
   ]
  },
  {
   "cell_type": "markdown",
   "id": "e88c6280-bb4d-4e2c-8775-1a6a1374df43",
   "metadata": {},
   "source": [
    "**Task: Implement the method `extract_features()` below to extract all required features from a text document.** To illustrate the basic idea -- and because it's too trivial anyway :) -- we already provide you with a snippet to calculate the total number of characters.\n",
    "\n",
    "**Comments & Hints:**\n",
    "\n",
    "* All features can be extracted using Regular Expression. With your practice in writing Regular Expression, this should be a very simple task. However, you are not required to use Regular Expressions and can use any in-built method provided by Python to solve this task.\n",
    "* If you use Regular Expression, we recommend always using `flags=re.I` or `flags=re.IGNORECASE` to ensure that all your matches are insensitive to the case of the words. If you don't use Regular Expression, you need to handle the case of words differently."
   ]
  },
  {
   "cell_type": "code",
   "execution_count": 7,
   "id": "c498fe2b-105a-4db5-830c-27ffb5661b54",
   "metadata": {},
   "outputs": [
    {
     "name": "stdout",
     "output_type": "stream",
     "text": [
      "{\n",
      "  \"num_chars\": 59,\n",
      "  \"num_nonwhite_characters\": 48,\n",
      "  \"num_uppercase_words\": 3,\n",
      "  \"num_positive_words\": 2,\n",
      "  \"num_negative_words\": 1,\n",
      "  \"num_slang_words\": 1,\n",
      "  \"num_exclamation_marks\": 5\n",
      "}\n"
     ]
    }
   ],
   "source": [
    "def extract_features(text):\n",
    "    \n",
    "    features = {\n",
    "        \"num_chars\": 0,                # total length of text incl. all characters\n",
    "        \"num_nonwhite_characters\": 0,  # number of non-whitespace characters\n",
    "        \"num_uppercase_words\": 0,      # number of words in all uppercase (e.g., \"NICE\", \"HAPPY\")\n",
    "        \"num_positive_words\": 0,       # number of positive words\n",
    "        \"num_negative_words\": 0,       # number of negatice words\n",
    "        \"num_slang_words\": 0,          # number of slang words        \n",
    "        \"num_exclamation_marks\": 0,    # number of exclamation marks\n",
    "    }\n",
    "    \n",
    "    features[\"num_chars\"] = len(text)\n",
    "    \n",
    "    #########################################################################################\n",
    "    ### Your code starts here ###############################################################\n",
    "    nonWhite = text.strip()\n",
    "    nonWhite = text.split()\n",
    "    nonWhite = ''.join(nonWhite)\n",
    "    features[\"num_nonwhite_characters\"] = len(nonWhite)\n",
    "    \n",
    "    uppercaseWords = text.split()\n",
    "    countUpperCaseWords = 0\n",
    "    countPositiveWords = 0\n",
    "    countNegativeWords = 0\n",
    "    countSlangWords = 0\n",
    "    for word in uppercaseWords:\n",
    "        if word.isupper():\n",
    "            countUpperCaseWords += 1\n",
    "    for word in WORDLIST_POSITIVE:\n",
    "        countPositiveWords += text.lower().count(word)\n",
    "    for word in WORDLIST_NEGATIVE:\n",
    "        countNegativeWords += text.lower().count(word)\n",
    "    for word in WORDLIST_SLANG:\n",
    "        countSlangWords += text.lower().count(word)\n",
    "\n",
    "    features[\"num_uppercase_words\"] = countUpperCaseWords\n",
    "    features[\"num_positive_words\"] = countPositiveWords\n",
    "    features[\"num_negative_words\"] = countNegativeWords\n",
    "    features[\"num_slang_words\"] = countSlangWords\n",
    "    features[\"num_exclamation_marks\"] = text.count('!')\n",
    "    ### Your code ends here #################################################################\n",
    "    #########################################################################################\n",
    "    \n",
    "    return features\n",
    "\n",
    "\n",
    "features = extract_features(\"WTF!! Such a nice movie!!! It made me both HAPPY and SAD...\")\n",
    "\n",
    "# Copy Paste this example for marking (feel free to modify)\n",
    "#features = extract_features(\"!!! TEST! sad saddle imo limo HAPPY CHAPPY BORING!!\")\n",
    "\n",
    "# We use the json package only for printing the dictionary a bit nicer\n",
    "print(json.dumps(features, indent=2))"
   ]
  },
  {
   "cell_type": "markdown",
   "id": "5a910375-2d6e-4fdd-a952-e1f1c6e8aef3",
   "metadata": {},
   "source": [
    "The expected output for the code cell above is:\n",
    "\n",
    "```\n",
    "{\n",
    "  \"num_chars\": 59,\n",
    "  \"num_nonwhite_characters\": 48,\n",
    "  \"num_uppercase_words\": 3,\n",
    "  \"num_positive_words\": 2,\n",
    "  \"num_negative_words\": 1,\n",
    "  \"num_slang_words\": 1,\n",
    "  \"num_exclamation_marks\": 5\n",
    "}\n",
    "```\n",
    "\n",
    "I think you can acknowledge that we picked only features that are very easy to extract. In practice, of course, this can get arbitrarily more tricky. For example, consider we also want to extract the number of positive and negative emoticons. This would either require a comprehensive list of common emoticons, or a smart Regular Expression to match emoticons. Or maybe we want to count words to `num_uppercase_words` if more than half of the letters in the word are capitalized; again, which would make it a bit more complicated. Other features might include the information about Post-of-Speech tags (e.g., the number of nouns, verbs, and adjectives). Again, here we kept it very simple to get you warmed-up for the assignment :)."
   ]
  },
  {
   "cell_type": "markdown",
   "id": "f30ad475-f1b5-484d-9e5a-4535fd3085c3",
   "metadata": {
    "tags": []
   },
   "source": [
    "### 1.2 Basic Implementation of a TF-IDF Vectorizer (8 points)\n",
    "\n",
    "The challenges with hand-crafted features are (a) that we have to identify which features might be useful, and (b) that we actually need to extract them from each text document. This also includes that our choice of features typically depends on the specific task. For example for clustering news articles, we probably have no need to extract the number of positive and negative emoticons.\n",
    "\n",
    "The motivation behind the Vector Space Model is to provide a more generalized method for feature extraction. Here the extracted features directly derive from the vocabulary which makes this representation task-independent. On the other hand, using the vocabulary as features set also means that the size of each document vectors is the size of the vocabulary, and that in practice most elements in a document vector are 0 (i.e., VSM document vectors are sparse vectors; we talked about the limitations a bit in the lecture). While the general output of the transformation of a corpus is the Term-Document Matrix, the exact values in the matrix depend on the choice of representation. Since the TF-IDF weights are by far the most common choice for the matrix values, this is what will be implemented in this section.\n",
    "\n",
    "You can find the skeleton code of `MyTfidfVectorizer` class in the `.py` file. The method and parameter names as well as the output are designed by mimic the input and output of the [`sklearn.feature_extraction.text.TfidfVectorizer`](https://scikit-learn.org/stable/modules/generated/sklearn.feature_extraction.text.TfidfVectorizer.html). There are only some minor differences to consider, which will point where needed but make the implementation actually a bit easier."
   ]
  },
  {
   "cell_type": "markdown",
   "id": "5e481f07-2c53-4b2a-ba06-3110d56226b8",
   "metadata": {
    "tags": []
   },
   "source": [
    "#### 1.2 a) Calculating IDF Weights (4 Points)\n",
    "\n",
    "Fitting the `MyTfidfVectorizer` means to compute the Inverse Document Frequency (IDF) weights for each term in the vocabulary, which means that we also need to generate the vocabulary from the text corpus. Note that we only need to compute the term frequencies (TF) when we actually transform documents into their respective document vectors\n",
    "\n",
    "**Task: Implement the method `fit()` to calculate the IDF weights!** This implicitly requires calculating the vocabulary, where the vocabulary refers to the number of unique words/tokens in the corpus. Please use the formula from the lecture slides (incl. the use of $\\log_{10}$) to yield the same result as seen on the slides.\n",
    "\n",
    "**Note:** While the [`sklearn.feature_extraction.text.TfidfVectorizer`](https://scikit-learn.org/stable/modules/generated/sklearn.feature_extraction.text.TfidfVectorizer.html) assumes a list of strings as input by default, `MyTfidfVectorizer().fit()` requires a list of word lists. In other words, the documents/string have already been tokenized. The scitkit-learn `TfidfVectorizer` supports this as well, but requires explicit input parameter settings (see later in the notebook an example)."
   ]
  },
  {
   "cell_type": "code",
   "execution_count": 8,
   "id": "66cc48ca-af99-4d34-b86f-55ff01cb7aa8",
   "metadata": {},
   "outputs": [
    {
     "name": "stdout",
     "output_type": "stream",
     "text": [
      "Vocabulary (lexicographically sorted):\n",
      "['elect', 'goal', 'mayor', 'player', 'team', 'term', 'vote', 'win']\n",
      "\n",
      "IDF values for some selected terms\n",
      "team: 0.544\n",
      "goal: 0.243\n"
     ]
    }
   ],
   "source": [
    "my_tfidf_vectorizer = MyTfidfVectorizer().fit(toy_corpus)\n",
    "\n",
    "print(\"Vocabulary (lexicographically sorted):\")\n",
    "print(my_tfidf_vectorizer.get_feature_names_out().tolist())\n",
    "print()\n",
    "print(\"IDF values for some selected terms\")\n",
    "print(\"{}: {:.3f}\".format(\"team\", my_tfidf_vectorizer.idf[\"team\"]))\n",
    "print(\"{}: {:.3f}\".format(\"goal\", my_tfidf_vectorizer.idf[\"goal\"]))"
   ]
  },
  {
   "cell_type": "markdown",
   "id": "d221dc39-a4c3-47c2-a0e4-6aac4e72aa13",
   "metadata": {},
   "source": [
    "The expected output of the code cell above is:\n",
    "\n",
    "```\n",
    "Vocabulary (lexicographically sorted):\n",
    "['elect', 'goal', 'mayor', 'player', 'team', 'term', 'vote', 'win']\n",
    "\n",
    "IDF values for some selected terms\n",
    "team: 0.544\n",
    "goal: 0.243\n",
    "```"
   ]
  },
  {
   "cell_type": "markdown",
   "id": "d15d5b10-8942-4b05-b81b-c243d6bf09b4",
   "metadata": {
    "tags": []
   },
   "source": [
    "#### 1.2 b) Generating Document Vectors (4 Points)\n",
    "\n",
    "Now that we have the IDF weights for each term in our vocabulary, we have everything in place to vectorize our documents.\n",
    "\n",
    "**Task: Implement the method `transform()` to generate the TF-IDF document vectors!** Again, consider the formula we used in the lectures and \"dampen\" the term frequency $tf_{t,d}$ for a word/term $t$ using: $(1 + \\log_{10}tf_{t,d})$, if $tf_{t,d} > 0$, otherwise $0$. Please also take note of the minor difference compared to the definitions on the lecture slides:\n",
    "* All scikit-learn vectorizers return a Document-Term Matrix, which is the same as the Term-Document Matrix but transposed. In order to use `MyTfidfVectorizer` as drop-in replacement for `TfidfVectorizer`, your `transform()` method should also return a Document-Term Matrix. Which means that the rows represent the documents, and the columns represent the features/word/tokens."
   ]
  },
  {
   "cell_type": "code",
   "execution_count": 9,
   "id": "dc8982b6-0e97-4244-bdf1-26fc05d54687",
   "metadata": {},
   "outputs": [
    {
     "name": "stdout",
     "output_type": "stream",
     "text": [
      "[[0.85 0.   0.   0.   0.   0.   0.  ]\n",
      " [0.   0.24 0.24 0.32 0.24 0.   0.  ]\n",
      " [0.54 0.54 0.   0.   0.   0.   0.  ]\n",
      " [0.   0.   0.   0.   0.37 0.37 0.48]\n",
      " [0.   0.   0.   0.   0.54 0.54 0.  ]\n",
      " [0.19 0.15 0.15 0.19 0.   0.   0.15]\n",
      " [0.   0.   0.54 0.   0.   0.   0.54]\n",
      " [0.   0.24 0.24 0.   0.24 0.32 0.  ]]\n"
     ]
    }
   ],
   "source": [
    "my_tfidf_vectorizer = MyTfidfVectorizer().fit(toy_corpus)\n",
    "\n",
    "X_toy_train = my_tfidf_vectorizer.transform(toy_corpus)\n",
    "\n",
    "# Print transposed matrix (Document-Term Matrix ==> Term-Document Matrix)\n",
    "# Just to match the output to the example used on the lecture slides!\n",
    "print(X_toy_train.T)"
   ]
  },
  {
   "cell_type": "markdown",
   "id": "816ef27f-7836-4473-8514-a9237404e0b9",
   "metadata": {},
   "source": [
    "The output of the code cell above should match the example we used in the lecture.\n",
    "\n",
    "Since all scikit-learn vectorizers also offer a `fit_transform()` method to combine both steps, `MyTfidfVectorizer` also features this method. Of course, there is nothing for you to implement here since the method simply calls first `fit()` and then `transform()` on the same data. you can run the code cell below for an example, which naturally should yield the exact same output."
   ]
  },
  {
   "cell_type": "code",
   "execution_count": 10,
   "id": "f91ad760-23cc-4774-bb14-4b69f95e62ac",
   "metadata": {},
   "outputs": [
    {
     "name": "stdout",
     "output_type": "stream",
     "text": [
      "[[0.85 0.   0.   0.   0.   0.   0.  ]\n",
      " [0.   0.24 0.24 0.32 0.24 0.   0.  ]\n",
      " [0.54 0.54 0.   0.   0.   0.   0.  ]\n",
      " [0.   0.   0.   0.   0.37 0.37 0.48]\n",
      " [0.   0.   0.   0.   0.54 0.54 0.  ]\n",
      " [0.19 0.15 0.15 0.19 0.   0.   0.15]\n",
      " [0.   0.   0.54 0.   0.   0.   0.54]\n",
      " [0.   0.24 0.24 0.   0.24 0.32 0.  ]]\n"
     ]
    }
   ],
   "source": [
    "my_tfidf_vectorizer = MyTfidfVectorizer()\n",
    "\n",
    "X_toy_train = my_tfidf_vectorizer.fit_transform(toy_corpus)\n",
    "\n",
    "# Print transposed matrix (Document-Term Matrix ==> Term-Document Matrix)\n",
    "# Just to match the output to the example used on the lecture slides!\n",
    "print(X_toy_train.T)"
   ]
  },
  {
   "cell_type": "markdown",
   "id": "ea2a60ea-6975-48b3-9f4c-802e0b146fb3",
   "metadata": {},
   "source": [
    "With your implementation of the method `transform()` we can now also transform new documents that have not been in the corpus used for training. The steps performed are, of course, exactly the same, but appreciate how we use the Term Frequencies from the unseen documents and the Inverse Document Frequencies from the training vocabulary to calculate the TF-IDF weights. This also means that an unseen document may contain words that were not in the vocabulary in the training corpus. In this case, simply speaking, the vectorizer ignores unknown terms. In the code cell below, we transform 3 documents. Note that the last document contains the term *\"cs5246\"* which is not represented in our Document-Term Matrix."
   ]
  },
  {
   "cell_type": "code",
   "execution_count": 11,
   "id": "9a438b0c-86ed-45e7-b32a-a431ebd9d854",
   "metadata": {},
   "outputs": [
    {
     "name": "stdout",
     "output_type": "stream",
     "text": [
      "[[0.   0.   0.  ]\n",
      " [0.   0.24 0.24]\n",
      " [0.54 0.   0.54]\n",
      " [0.   0.37 0.  ]\n",
      " [0.54 0.   0.  ]\n",
      " [0.15 0.   0.  ]\n",
      " [0.   0.   0.  ]\n",
      " [0.   0.24 0.  ]]\n"
     ]
    }
   ],
   "source": [
    "toy_corpus_test = [\n",
    "    \"mayor team term\".split(),\n",
    "    \"goal win player\".split(),\n",
    "    \"mayor cs5246 goal\".split(),\n",
    "]\n",
    "\n",
    "X_toy_test = my_tfidf_vectorizer.transform(toy_corpus_test)\n",
    "\n",
    "# Print transposed matrix (Document-Term Matrix ==> Term-Document Matrix)\n",
    "print(X_toy_test.T)"
   ]
  },
  {
   "cell_type": "markdown",
   "id": "146686c4-57b2-48d5-b42a-657ad2b1776e",
   "metadata": {},
   "source": [
    "Notice that the last column only contains 2 values, representing the words *\"mayor\"* and *\"goal\"*. Since the vectorizer hasn't seen *\"cs5246\"* during training, this term is not represented in the matrix. If we would replace the unknown term *\"cs5246\"* with a known term (e.g., *\"player\"*), then we would of course see all 3 terms represent the respective document vector. The code cell below illustrates this."
   ]
  },
  {
   "cell_type": "code",
   "execution_count": 12,
   "id": "409fc858-87cb-4d12-85fb-978731ab7a35",
   "metadata": {},
   "outputs": [
    {
     "name": "stdout",
     "output_type": "stream",
     "text": [
      "[[0.   0.   0.  ]\n",
      " [0.   0.24 0.24]\n",
      " [0.54 0.   0.54]\n",
      " [0.   0.37 0.37]\n",
      " [0.54 0.   0.  ]\n",
      " [0.15 0.   0.  ]\n",
      " [0.   0.   0.  ]\n",
      " [0.   0.24 0.  ]]\n"
     ]
    }
   ],
   "source": [
    "toy_corpus_test = [\n",
    "    \"mayor team term\".split(),\n",
    "    \"goal win player\".split(),\n",
    "    \"mayor player goal\".split(),\n",
    "]\n",
    "\n",
    "X_toy_test = my_tfidf_vectorizer.transform(toy_corpus_test)\n",
    "\n",
    "# Print transposed matrix (Document-Term Matrix ==> Term-Document Matrix)\n",
    "print(X_toy_test.T)"
   ]
  },
  {
   "cell_type": "markdown",
   "id": "1a5659c2-708a-4b98-90c0-29c5fb00758b",
   "metadata": {
    "tags": []
   },
   "source": [
    "### 1.3 N-Gram Support (6 Points)\n",
    "\n",
    "So far, we only considered individual words (i.e., unigrams) as features for the document vectors. However, we saw in the lecture that we can directly extend the Vector Space Model to n-grams of sizes larger than 1. This means that our vocabulary, and hence our set of features, now can also contain contiguous sequences of terms from a text. At this point it becomes handy that your `fit()` and `transform()` methods expect a list of word lists, as a word list may contain n-grams (and not just unigrams). As such, there is no need for any changes to `MyTfidfVectorizer`! Of course, we have to prepare our corpus to now also contain n-grams of sizes larger than 1 (if needed).\n",
    "\n",
    "#### 1.3 a) Computing Corpus N-Grams (3 Points)\n",
    "\n",
    "**Task: Implement the method `extract_ngrams()` below to compute all n-grams for a given word list and choice of n-gram range!** This should be a very simple task and not require any methods from additional packages such as `re`, `numpy`, `sklearn`. It's all about basic handling of Python lists.\n"
   ]
  },
  {
   "cell_type": "code",
   "execution_count": 13,
   "id": "015faf5e-0b70-4b06-99eb-6d079639e4ec",
   "metadata": {},
   "outputs": [
    {
     "name": "stdout",
     "output_type": "stream",
     "text": [
      "['mayor', 'elect', 'term', 'term', 'mayor elect', 'elect term', 'term term', 'mayor elect term', 'elect term term']\n"
     ]
    }
   ],
   "source": [
    "def extract_ngrams(word_list, ngram_range=(1,1)):\n",
    "    ngrams = []\n",
    "    \n",
    "    #########################################################################################\n",
    "    ### Your code starts here ###############################################################    \n",
    "    ngram_range_min = ngram_range[0]\n",
    "    ngram_range_max = ngram_range[1]\n",
    "    for i in range(ngram_range_min, ngram_range_max + 1):\n",
    "        for j in range(len(word_list)):\n",
    "            if j+i <= len(word_list):\n",
    "                ngrams.append(' '.join(word_list[j:j+i]))\n",
    "    ### Your code ends here #################################################################\n",
    "    #########################################################################################            \n",
    "            \n",
    "    # Return ngrams (note: the order does no matter)\n",
    "    return ngrams\n",
    "\n",
    "# Run method over first sentence of our toy corpus\n",
    "print(extract_ngrams(toy_corpus[0], ngram_range=(1,3)))"
   ]
  },
  {
   "cell_type": "markdown",
   "id": "eaa49013-b9ff-4986-9732-bc3d41be441f",
   "metadata": {},
   "source": [
    "The expected output for the code cell above is:\n",
    "\n",
    "```\n",
    "['mayor', 'elect', 'term', 'term', 'mayor elect', 'elect term', 'term term', 'mayor elect term', 'elect term term']\n",
    "```\n",
    "\n",
    "Of course, this assumes `ngram_range=(1,3)`  as input parameter. You are encouraged to change those values to see if the output meets your expectations.\n",
    "\n",
    "With the method `extract_ngrams()` we can now convert our initial corpus (where each document is represented by a list of word/unigrams) into a corpus where each document is represented by a list of n-grams if specified sizes. There is nothing for you to implement here; you can just run the code cell below.\n"
   ]
  },
  {
   "cell_type": "code",
   "execution_count": 14,
   "id": "b06f364d-d90c-4406-ae52-86c6d0abd86e",
   "metadata": {},
   "outputs": [
    {
     "name": "stdout",
     "output_type": "stream",
     "text": [
      "['mayor', 'elect', 'term', 'term', 'mayor elect', 'elect term', 'term term', 'mayor elect term', 'elect term term']\n"
     ]
    }
   ],
   "source": [
    "toy_corpus_ngram = [ extract_ngrams(doc, ngram_range=(1,3)) for doc in toy_corpus ]\n",
    "\n",
    "# Show the first sentence; this should reflect to output above, of course.\n",
    "print(toy_corpus_ngram[0])"
   ]
  },
  {
   "cell_type": "markdown",
   "id": "ec2145f3-d93b-41c6-8c67-eafdf9a8a1c8",
   "metadata": {},
   "source": [
    "As mentioned above, this new corpus containing lists of n-grams already serves as valid input for the methods of `MyTfidfVectorizer`. The code cell below uses the `MyTfidfVectorizer` to create the Document-Term matrix based on the \"ngram-ified\" toy corpus."
   ]
  },
  {
   "cell_type": "code",
   "execution_count": 15,
   "id": "96d5678f",
   "metadata": {},
   "outputs": [
    {
     "data": {
      "text/plain": [
       "[['mayor', 'elect', 'term', 'term'],\n",
       " ['mayor', 'goal', 'term', 'win'],\n",
       " ['goal', 'term', 'win', 'vote'],\n",
       " ['term', 'goal', 'term', 'goal'],\n",
       " ['goal', 'team', 'player', 'win'],\n",
       " ['win', 'team', 'win', 'player'],\n",
       " ['player', 'vote', 'player', 'term']]"
      ]
     },
     "execution_count": 15,
     "metadata": {},
     "output_type": "execute_result"
    }
   ],
   "source": [
    "toy_corpus"
   ]
  },
  {
   "cell_type": "code",
   "execution_count": 16,
   "id": "ebbdbd6c-0ebb-479d-823f-38f69ff41070",
   "metadata": {},
   "outputs": [
    {
     "name": "stdout",
     "output_type": "stream",
     "text": [
      "Size of transposed matrix: (38, 7)\n",
      "\n"
     ]
    }
   ],
   "source": [
    "my_tfidf_vectorizer = MyTfidfVectorizer()\n",
    "\n",
    "X_toy_train = my_tfidf_vectorizer.fit_transform(toy_corpus_ngram)\n",
    "\n",
    "print(\"Size of transposed matrix: {}\\n\".format(X_toy_train.T.shape))\n",
    "\n",
    "# Feel free to print the matrix; it just eats a bunch of space :)\n",
    "#print(X_train.T)"
   ]
  },
  {
   "cell_type": "markdown",
   "id": "45743cea-ffdb-4d9e-b8b7-6aa4e3789cbd",
   "metadata": {},
   "source": [
    "You should see that the feature dimensions is of size 38. This means that there a total number of 38 unique n-grams of sizes 1, 2 and 3 in the toy dataset."
   ]
  },
  {
   "cell_type": "markdown",
   "id": "cdad2de0-efab-4b81-b4ab-ff653ea6a8d2",
   "metadata": {},
   "source": [
    "#### 1.3 b) Upper Bound for the Number of N-Grams (3 Points)\n",
    "\n",
    "We saw in 1.3 a) that increasing the n-gram range increases the number of features (i.e., the number of unique n-grams). Calculating the exact number of resulting n-grams for a given n-gram range and corpus is not obvious. However, we can specify an upper bound for the maximum number of possible n-grams for for *arbitrary n-gram ranges* and *arbitrary corpora*.\n",
    "\n",
    "**Question: What is the upper bound of the number of unique n-grams?** Formulate the upper bound usi the [Big *O* Notation](https://en.wikipedia.org/wiki/Big_O_notation). You can assume that *D* is the number of documents in the corpus, and *L* is the length of the longest document in the corpus. If you make any assumption when deriving your upper bound, please state them clearly. Also, please don't just simply state the upper bound, but include the steps how you got to it.\n",
    "\n",
    "**Your Answer:**"
   ]
  },
  {
   "cell_type": "markdown",
   "id": "db411f5a-420a-401a-9826-a7886da3814e",
   "metadata": {},
   "source": [
    "<p>Let <em>D</em> be the number of documents in the corpus.<br>\n",
    "Let <em>L</em> be the length of the longest document in the corpus (L refers to the number of unique words).<br>\n",
    "For each document,<br>\n",
    "For 1-gram: the number of unique n-grams of size 1 is (L - 1 + 1)<br>\n",
    "For 2-gram: the number of unique n-grams of size 2 is (L - 2 + 1)<br>\n",
    "For n-gram: the number of unique n-grams of size n is (L - n + 1)<br>\n",
    "Hence, the number of unique n-grams of range 1 to n is:<br>\n",
    "(L-1+1) + (L-2+1) + ... + (L-n+1) = nL - (1+2+...+n) + n<br>\n",
    "Simplifying the above equation, we get nL - n(n+1)/2 + n<br>\n",
    "    Simplifying the above equation, we get 2nL−n<sup>2</sup>+n <br>\n",
    "    For D documents we have D×(2nL−n<sup>2</sup>+n) <br>\n",
    "Since L > n,<br>\n",
    "    We finally have the upper bound of order <b> O(D × L × n) </b> </p>\n"
   ]
  },
  {
   "cell_type": "markdown",
   "id": "825b5551-c2d2-46ee-adce-c121003f5bf8",
   "metadata": {},
   "source": [
    "---"
   ]
  },
  {
   "cell_type": "markdown",
   "id": "650fc6d6-dc14-4e3a-bfc9-b0b339847458",
   "metadata": {},
   "source": [
    "## 2 K-Nearest Neighbor (KNN) (15 Points)\n",
    "\n",
    "Being able to compute the similarity between documents, we can also perform classification tasks using the K-Nearest Neighbor classifier. Recall from the lecture that predicting the class label for an unseen document requires the following 2 main steps\n",
    "\n",
    "* Find the *k* documents in the training set that are closest to the unseen document\n",
    "\n",
    "* Assign the most common class label in the *k* documents to the  unseen document\n",
    "\n",
    "In this section, your task is to implement a KNN classifier by implementing these 2 aforementioned steps. You can find the skeleton code for class `MyKNeighborsClassifier` in the `.py` file. Recall from the lecture that training the KNN classifier is trivial, since training here simply means to remember the training data; cf. method `fit()`.\n",
    "\n",
    "We also provide you with an auxiliary method `create_label_maps()` which is called after the \"training\". The sole purpose of this method is to map arbitrary class labels (e.g., *\"politics\"*, *\"sports\"*) to integer class labels 0..(#classes1); e.g., 0, 1 -- since we only have two classes. This will make the implementation much easier as we can use these integer class labels for indexing vectors/matrices. Let's have a quick look at the output of method `create_label_maps()`:\n"
   ]
  },
  {
   "cell_type": "code",
   "execution_count": 17,
   "id": "2b451d09-1d6b-4c84-98fd-f21d04dd5686",
   "metadata": {},
   "outputs": [
    {
     "name": "stdout",
     "output_type": "stream",
     "text": [
      "Mapping from class label to class index: {'politics': 0, 'sports': 1}\n",
      "Mapping from class index to class label: {0: 'politics', 1: 'sports'}\n",
      "['politics' 'politics' 'politics' 'politics' 'sports' 'sports' 'sports'] ==> [0 0 0 0 1 1 1]\n"
     ]
    }
   ],
   "source": [
    "my_knn = MyKNeighborsClassifier(n_neighbors=1).fit(X_toy_train, y_toy_train) # create_label_maps() gets called in fit()\n",
    "    \n",
    "print(\"Mapping from class label to class index: {}\".format(my_knn.label2idx))\n",
    "print(\"Mapping from class index to class label: {}\".format(my_knn.idx2label))\n",
    "print(\"{} ==> {}\".format(y_toy_train, my_knn.y_train))"
   ]
  },
  {
   "cell_type": "markdown",
   "id": "01f78b5d-73f4-48ce-ab23-e43090205c01",
   "metadata": {},
   "source": [
    "There a two important results:\n",
    "\n",
    "* Two dictionaries mapping from the arbitrary string labels to the integer labels; and vice versa\n",
    "\n",
    "* An internal representation `self.y_train` of the training labels using the generating mapping\n",
    "\n",
    "You can and should use `self.y_train` for implementing the classifier. You don't have to, but it should simplify things.\n",
    "\n",
    "Before we get started, let's recreate our document vectors again. This is simply to ensure the expected outcomes even if you have changed previous code cells to check your implementation."
   ]
  },
  {
   "cell_type": "code",
   "execution_count": 18,
   "id": "80ecac5d-db36-4abc-9407-43f368f49ad7",
   "metadata": {},
   "outputs": [
    {
     "name": "stdout",
     "output_type": "stream",
     "text": [
      "[0.85 0.   0.54 0.   0.   0.19 0.   0.  ]\n"
     ]
    }
   ],
   "source": [
    "my_tfidf_vectorizer = MyTfidfVectorizer()\n",
    "\n",
    "X_toy_train = my_tfidf_vectorizer.fit_transform(toy_corpus)\n",
    "X_toy_test = my_tfidf_vectorizer.transform(toy_corpus_test)\n",
    "\n",
    "print(X_toy_train[0])"
   ]
  },
  {
   "cell_type": "markdown",
   "id": "34c21020-7fdd-46ba-a325-2e2b9011f946",
   "metadata": {
    "tags": []
   },
   "source": [
    "### 2.1 Implementation of K-Nearest Neighbor Classifier (8 points)\n",
    "\n",
    "You will see that a KNN classifier is in fact rather easy to implement. To make it a bit more interesting, we will subject your implementation of `MyKNeighborsClassifier` to a **performance benchmark** to see how you compare to your peers in terms of runtime performance. Don't forget, however, that this benchmark **will not affect your marks** and is only for bragging rights. For the marking, we only check the correctness of the results.\n",
    "\n",
    "#### 2.1 a) Calculate Pairwise Distances (4 Points)\n",
    "\n",
    "In practice, we do not only want to predict the class label for a single unseen text document but for multiple text documents at the same time. This means, we need to compute the pairwise distances between all unseen text documents and all training documents.\n",
    "\n",
    "**Task: Implement method `euclidean_distances()` to compute all pairwise distances!**  Note that the method `euclidean_distances()` is not a class method of `MyKNeighborsClassifier`, because we can re-use this method later when implementing AGNES clustering. You can use the code cells below to check your implementation.\n",
    "\n",
    "**Important:**\n",
    "\n",
    "* Use the *Euclidean Distance* to compute the pairwise distances! We use this metric as it is very easy to implement.\n",
    "\n",
    "* You are not allowed to import additional packages, but you can use anything provided by numpy; importing [`sklearn.metrics.pairwise.euclidean_distances`](https://scikit-learn.org/stable/modules/generated/sklearn.metrics.pairwise.euclidean_distances.html) would makes things a bit too easy, and we want to have a fair performance benchmark."
   ]
  },
  {
   "cell_type": "code",
   "execution_count": 19,
   "id": "d0d0a0ff-d927-4d89-8e6c-f8603086afa5",
   "metadata": {},
   "outputs": [
    {
     "name": "stdout",
     "output_type": "stream",
     "text": [
      "[[1.01 0.64 1.   0.83 0.76 0.74 1.06]\n",
      " [1.14 0.67 0.67 0.49 0.54 0.6  0.67]\n",
      " [0.97 0.46 0.9  0.69 0.81 0.87 0.83]]\n"
     ]
    }
   ],
   "source": [
    "print(euclidean_distances(X_toy_test, X_toy_train))"
   ]
  },
  {
   "cell_type": "markdown",
   "id": "60bc0576-1d3b-4484-852f-c903ed88ac13",
   "metadata": {},
   "source": [
    "The expected output of the code cell above is:\n",
    "\n",
    "```\n",
    "[[1.01 0.64 1.   0.83 0.76 0.74 1.06]\n",
    " [1.14 0.67 0.67 0.49 0.54 0.6  0.67]\n",
    " [0.97 0.46 0.9  0.69 0.81 0.87 0.83]]\n",
    "```"
   ]
  },
  {
   "cell_type": "markdown",
   "id": "9f53bf14-46fe-4972-ae5d-03c53298f386",
   "metadata": {},
   "source": [
    "You can also double-check your implementations by comparing your output with the one from the implementation used by `sklearn`. However, for completing your implementations of `MyKNeighborsClassifier` please use your own implementation of `euclidean_distances` as it makes the performance benchmarks more interesting."
   ]
  },
  {
   "cell_type": "code",
   "execution_count": 20,
   "id": "1bc3a966-9931-4fee-8850-80a847285455",
   "metadata": {},
   "outputs": [
    {
     "data": {
      "text/plain": [
       "array([[1.01, 0.64, 1.  , 0.83, 0.76, 0.74, 1.06],\n",
       "       [1.14, 0.67, 0.67, 0.49, 0.54, 0.6 , 0.67],\n",
       "       [0.97, 0.46, 0.9 , 0.69, 0.81, 0.87, 0.83]])"
      ]
     },
     "execution_count": 20,
     "metadata": {},
     "output_type": "execute_result"
    }
   ],
   "source": [
    "# Safety check with scikit-learn\n",
    "import sklearn\n",
    "sklearn.metrics.euclidean_distances(X_toy_test, X_toy_train)"
   ]
  },
  {
   "cell_type": "markdown",
   "id": "2fa30473-9c38-4cf8-8406-30c6aa3eaa14",
   "metadata": {},
   "source": [
    "#### 2.1 b) Predict Class Labels (4 Points)\n",
    "\n",
    "Now that you have computed all pairwise distances, you can complete method `predict()` to\n",
    "\n",
    "* find the k-nearest neighbor for each unseen text document\n",
    "\n",
    "* find the majority label across these k-nearest neighbors\n",
    "\n",
    "**Task: Implement the method `predict()` to compute the predicted class labels!** Hint: Have a look at the methods [`np.argsort`](https://numpy.org/doc/stable/reference/generated/numpy.argsort.html) and [`np.bincount`](https://numpy.org/doc/stable/reference/generated/numpy.bincount.html). They are not required to use, but might make things much simpler to implement."
   ]
  },
  {
   "cell_type": "code",
   "execution_count": 21,
   "id": "d0e5e62d-b57c-47c1-8b8a-a8d405da1316",
   "metadata": {},
   "outputs": [
    {
     "name": "stdout",
     "output_type": "stream",
     "text": [
      "['politics' 'politics' 'politics']\n",
      "['politics' 'politics' 'politics']\n",
      "['sports' 'sports' 'politics']\n",
      "['politics' 'sports' 'politics']\n",
      "['politics' 'sports' 'sports']\n"
     ]
    }
   ],
   "source": [
    "for k in range(1, 6):\n",
    "    \n",
    "    my_knn = MyKNeighborsClassifier(n_neighbors=k).fit(X_toy_train, y_toy_train)\n",
    "\n",
    "    print(my_knn.predict(X_toy_test))"
   ]
  },
  {
   "cell_type": "markdown",
   "id": "7c2e87f3-dcc0-4f1c-8264-05867061fc7a",
   "metadata": {
    "tags": []
   },
   "source": [
    "### 2.2 Questions (7 points)\n",
    "\n",
    "\n",
    "#### 2.2 a) Comparison with \"Pure\" scikit-learn Solution (4 Points)\n",
    "\n",
    "The code cell below contains the minimal example of training a KNN classifier based on our toy corpus but only using classes and methods provided by scikit-learn. It is just a collection of all the steps we have already seen before. Simply run this code cell and have a look at its output.\n"
   ]
  },
  {
   "cell_type": "code",
   "execution_count": 22,
   "id": "37ddf94d-0350-4d55-899f-8dbaabc1e082",
   "metadata": {},
   "outputs": [
    {
     "name": "stdout",
     "output_type": "stream",
     "text": [
      "['politics' 'sports' 'politics']\n",
      "['politics' 'sports' 'politics']\n",
      "['politics' 'sports' 'sports']\n",
      "['politics' 'sports' 'politics']\n",
      "['politics' 'sports' 'politics']\n"
     ]
    }
   ],
   "source": [
    "def do_nothing(doc):\n",
    "    return doc\n",
    "\n",
    "# This looks a bit more complicated since the TfdifVectorizer assumes un-tokenized input by default.\n",
    "# However, our toy dataset is already preprocessed, so we don't want to do any preprocessing steps here.\n",
    "tfidf_vectorizer = TfidfVectorizer(tokenizer=do_nothing, token_pattern=None, preprocessor=do_nothing)\n",
    "X_toy_train = tfidf_vectorizer.fit_transform(toy_corpus).toarray()\n",
    "\n",
    "X_toy_test = tfidf_vectorizer.transform([\n",
    "    \"mayor team term\".split(),\n",
    "    \"goal win player\".split(),\n",
    "    \"mayor player goal\".split()\n",
    "]).toarray()\n",
    "\n",
    "for k in range(1, 6):\n",
    "    knn = KNeighborsClassifier(n_neighbors=k).fit(X_toy_train, y_toy_train)\n",
    "    print(knn.predict(X_toy_test))"
   ]
  },
  {
   "cell_type": "markdown",
   "id": "6546c57a-789a-404f-b205-414c34fee22f",
   "metadata": {},
   "source": [
    "You will observe that these predictions differ from the ones we have seen previously in 2.1 b).\n",
    "\n",
    "**Question: Why are the predictions now different?** Briefly explain the reasons and suggest steps to address it, but you do not have to implement anything here! Hint: Think about how the `sklearn` code above differs from your implementation with respect to the individual steps needed to be performed to arrive at the final predictions.\n",
    "\n",
    "**Your Answer:**"
   ]
  },
  {
   "cell_type": "markdown",
   "id": "0bed4d99-e03a-48eb-ab5b-c8c88dbc5c40",
   "metadata": {},
   "source": [
    "`sklearn` implements idf using idf(t) = log<sub>e</sub>((1+n)/(1+df<sub>t</sub>)) + 1 (default i:e smooth_idf = True), which is slightly different from the formula used in this assignment's implementation which causes the difference.\n",
    "\n",
    "Also, `sklearn` uses one of `brute`, `kd_tree`, `ball_tree` algorithm to arrive at an optimal solution unless specified. However, if `sklearn` kNeighborsClassifier is used with p = 2 (euclidean distance) and if the X_toy_train and X_toy_test are transformed using the tf-idf implemented in this assignment (MyTfidfVectorizer()), we get the same results and vice versa (if sklearn tf-idf (TfidfVectorizer())is used to transform X and then applied to mykNeighborsClassifier, then the results obtain are similar to `sklearn` results)"
   ]
  },
  {
   "cell_type": "markdown",
   "id": "f6d3024a-e9fc-487f-8743-57c14bb808b3",
   "metadata": {},
   "source": [
    "#### 2.2 b) Hyperparameter Tuning (3 Points)\n",
    "\n",
    "We have seen that during feature extraction and training the KNN classifier we have important parameters to choose. Most importantly -- there are other parameters but we ignore them here -- there is the **n-gram range** for the vectorizer and the choice of **k** (i.e., `n_neighbors`) for the KNN classifier. Of course, different choices for both values will yield different evaluation results. In practice, we therefore have to try different parameter combinations to find the best evaluation result(s). This process is called **hyperparameter tuning**\n",
    "\n",
    "The cell below shows a code snippet evaluating all possible combinations for n-gram ranges (up to size 5) and values for k (up to 30). The individual steps (vectorizing the text document and training a KNN classifier) are the same as you did above; here just on a hypothetical dataset. The evaluation metric is the common f1 score."
   ]
  },
  {
   "cell_type": "markdown",
   "id": "5ce28a9e-13e0-446f-8785-95a76937dfac",
   "metadata": {},
   "source": [
    "```python\n",
    "### Split corpus into 80% trainging and 20% test data\n",
    "docs_train, docs_test, y_train, y_test = train_test_split(documents, labels, test_size=0.2)\n",
    "\n",
    "for max_ngram_size in range(1, 6):\n",
    "    # Create vectorizer for current n-gram range\n",
    "    tfidf_vectorizer = TfidfVectorizer(ngram_range=(1, max_ngram_size))\n",
    "    # Fit and transform training and test data\n",
    "    X_train = tfidf_vectorizer.fit_transform(docs_train)\n",
    "    X_test =  tfidf_vectorizer.transform(docs_test)\n",
    "    \n",
    "    # Check Evaluate f1 score for different values of K\n",
    "    for k in range(1, 31):\n",
    "        # \"Train\" KNN classifier using documents in training set\n",
    "        knn = KNeighborsClassifier(n_neighbors=k).fit(X_train, y_train)\n",
    "        # Predict classes for documents in test set\n",
    "        y_pred = knn.predict(X_test)\n",
    "        # Calculate and print f1 score for current value of max_ngram_size and k\n",
    "        print(max_ngram_size, k, f1)\n",
    "```"
   ]
  },
  {
   "cell_type": "markdown",
   "id": "afb3d996-f1a1-421d-b9ce-86cde02a9845",
   "metadata": {},
   "source": [
    "From the output, we can derive which choices for `max_ngram_size` and `k` resulted in the highest f1 score.\n",
    "\n",
    "**Question: Are you OK with this approach or do you see problems?** Briefly discuss and justify your answer! If applicable, propose alternative approaches to find the best choices for `max_ngram_size` and `k`. There is no need to implement anything here!\n",
    "\n",
    "**Your Answer:**"
   ]
  },
  {
   "cell_type": "markdown",
   "id": "0458d78a-65c1-47f3-9364-137cb3a177d6",
   "metadata": {},
   "source": [
    "<b> Potential Problems and solutions: </b> <br>\n",
    "<p>The above code just uses f1-score to select the best max_ngram_size. Other metrics need to be considered as well. Also, just because f1-score is better, does not mean that the hyper-parameter used is best since it only uses one set of test data.</p>\n",
    "<p> To address this issue, for hyperparamter tuning, k-fold validation needs to be used for tuning, and since f1-score is average across the k-folds, this result is much more reliable. Along with that, 95% or 99% or some statistical threshold confidence interval needs to be used to determine whether the f1-score is actually better than the other. "
   ]
  },
  {
   "cell_type": "markdown",
   "id": "4cbcb4d3-03d3-43ae-8509-c93af7cd427a",
   "metadata": {},
   "source": [
    "---"
   ]
  },
  {
   "cell_type": "markdown",
   "id": "c0421bea-7a21-4de5-a010-12e52710238e",
   "metadata": {},
   "source": [
    "## 3 Hierarchical Clustering - AGNES (19 Points)\n",
    "\n",
    "Hierarchical Clustering (here: AGNES) is a very popular clustering for text documents. For example, it allows us to organize and visualize a corpus of news articles based on their similarities. In contrast to, e.g., K-Means, for AGNES we have to compute similarities not only between document vectors (or centroids, which are kind of \"virtual\" document vectors) but also between clusters (i.e., sets of document vectors)."
   ]
  },
  {
   "cell_type": "markdown",
   "id": "4cdab173-ee1f-47c0-b2ec-ba968780455c",
   "metadata": {},
   "source": [
    "### 3.1 Implementing AGNES (10 Points)\n",
    "\n",
    "Your task in this section is to implement AGNES by completing the skeleton code of class `MyAgglomerativeClustering` in the `.py` file (we adopt the naming from the scikit-learn packages which provides the class [`AgglomerativeClustering`](https://scikit-learn.org/stable/modules/generated/sklearn.cluster.AgglomerativeClustering.html). Of course, you only need to implement a rudimentary version. This includes that you only need to consider the 3 linkage methods covered in the lecture (\"single\", \"complete\", \"average\").\n",
    "\n",
    "For testing your implementation of AGNES, we use the toy dataset that we have seen in the lecture. To allow for simple plots, our document vectors have only 2 features. This makes it easy to compare if the intermediate steps of the hierarchical clustering work as expected. We provide you with the method `plot_agnes_clustering` (which you can find in the auxiliary file `src/utils.py`) for a quick visualization of the clusters throughout this task. In the plot we pretend that all document vectors belong to the same cluster. Hence, all dots have the same color."
   ]
  },
  {
   "cell_type": "code",
   "execution_count": 23,
   "id": "5816c3e4-19f9-4309-b566-b273d7ec1ad4",
   "metadata": {},
   "outputs": [
    {
     "name": "stdout",
     "output_type": "stream",
     "text": [
      "[[-6.   1. ]\n",
      " [-4.8  2.9]\n",
      " [-2.  -2.5]\n",
      " [ 3.   2. ]\n",
      " [ 2.7 -3.5]\n",
      " [ 3.  -2. ]]\n"
     ]
    },
    {
     "data": {
      "image/png": "[encoded data removed]",
      "text/plain": [
       "<Figure size 640x480 with 1 Axes>"
      ]
     },
     "metadata": {},
     "output_type": "display_data"
    }
   ],
   "source": [
    "X_agnes = pd.read_csv('data/a2-agnes-toy-data.csv').to_numpy()\n",
    "\n",
    "print(X_agnes)\n",
    "\n",
    "plot_agnes_clustering([X_agnes])"
   ]
  },
  {
   "cell_type": "markdown",
   "id": "81626028-2b82-4589-af28-41c8554cc7a0",
   "metadata": {},
   "source": [
    "To allow for a cleaner implementation of AGNES, you will implement it step by step using a collection of individual methods. To test these methods, let's create a dataset of 4 toy document vectors with two very simple clusters, each containing 2 document vectors. This allows you to easily verify if your implementation is correct."
   ]
  },
  {
   "cell_type": "code",
   "execution_count": 24,
   "id": "918bf363-598b-4836-b454-963b2cf12952",
   "metadata": {},
   "outputs": [
    {
     "data": {
      "image/png": "[encoded data removed]",
      "text/plain": [
       "<Figure size 640x480 with 1 Axes>"
      ]
     },
     "metadata": {},
     "output_type": "display_data"
    }
   ],
   "source": [
    "c1 = np.array([ [2, 0], [4, 0] ])\n",
    "c2 = np.array([ [8, 0], [10, 0] ])\n",
    "\n",
    "plot_agnes_clustering([c1, c2])"
   ]
  },
  {
   "cell_type": "markdown",
   "id": "9f3ddbf3-1369-4461-993a-b5b262b842ef",
   "metadata": {},
   "source": [
    "The method `merge_clusters()` we give you for free since it is too simple :). It merely takes two clusters, each represented by NumPy arrays and concatenates both arrays into a single array representing the newly merged cluster."
   ]
  },
  {
   "cell_type": "code",
   "execution_count": 25,
   "id": "fdc65305-5caf-4e62-bc61-cfaa6d6006ee",
   "metadata": {},
   "outputs": [
    {
     "name": "stdout",
     "output_type": "stream",
     "text": [
      "[[ 2  0]\n",
      " [ 4  0]\n",
      " [ 8  0]\n",
      " [10  0]]\n"
     ]
    }
   ],
   "source": [
    "c_merged = MyAgglomerativeClustering().merge_clusters(c1, c2)\n",
    "\n",
    "print(c_merged)"
   ]
  },
  {
   "cell_type": "markdown",
   "id": "134c8cc5-0852-4d1f-9096-6e01ba6ea248",
   "metadata": {},
   "source": [
    "We can, of course, now plot the merged cluster which now shows all 4 document vectors in the same color, as expected."
   ]
  },
  {
   "cell_type": "code",
   "execution_count": 26,
   "id": "c8b7c4d8-284a-46e1-aaeb-935a2d1b6401",
   "metadata": {},
   "outputs": [
    {
     "data": {
      "image/png": "[encoded data removed]",
      "text/plain": [
       "<Figure size 640x480 with 1 Axes>"
      ]
     },
     "metadata": {},
     "output_type": "display_data"
    }
   ],
   "source": [
    "plot_agnes_clustering([c_merged])"
   ]
  },
  {
   "cell_type": "markdown",
   "id": "51c9f2c3-f563-4305-803b-d472489742a5",
   "metadata": {},
   "source": [
    "#### 3.1 a) Calculating the Distances between 2 Clusters (2 Points)\n",
    "\n",
    "Calculating the pairwise distances between the document vectors of two clusters actually requires the heavy lifting when calculating the similarity between two clusters. So with `euclidean_distances()` in place, the remaining step is very simple.\n",
    "\n",
    "**Task: Implement the method `calculate_cluster_distance()` to calculate the distance between 2 clusters!** The skeleton of the method already calls method `euclidean_distances()` you have implemented earlier, so you only need to find the correct cluster distance with respect to the 3 supported linkage methods we covered in the lecture (*\"single\"*, *\"complete\"*, *\"average\"*)."
   ]
  },
  {
   "cell_type": "code",
   "execution_count": 27,
   "id": "3408a129-66a8-4b31-ba9c-06ced408d8a9",
   "metadata": {},
   "outputs": [
    {
     "name": "stdout",
     "output_type": "stream",
     "text": [
      "4.0\n",
      "8.0\n",
      "6.0\n"
     ]
    }
   ],
   "source": [
    "print(MyAgglomerativeClustering(linkage=\"single\").calculate_cluster_distance(c1, c2))    # Expected output: 4.0\n",
    "print(MyAgglomerativeClustering(linkage=\"complete\").calculate_cluster_distance(c1, c2))  # Expected output: 8.0\n",
    "print(MyAgglomerativeClustering(linkage=\"average\").calculate_cluster_distance(c1, c2))   # Expected output: 6.0"
   ]
  },
  {
   "cell_type": "markdown",
   "id": "dcf9ad20-a4ec-4d0d-a6e6-ddf0287657a6",
   "metadata": {},
   "source": [
    "#### 3.1 b) Generating the Distance Matrix (3 Points)\n",
    "\n",
    "Having a way to compute the distances between 2 clusters, we can now implement the method to compute the distances between n all pairs of clusters\n",
    "\n",
    "**Task: Implement the method `generate_distance_matrix()` to calculate all pairwise distances between all clusters!** The input parameter `clustering` is a list of clusters (i.e., NumPy arrays); the result of this a matrix (a 2d NumPy array) containing the pairwise distances. Recall from the lecture that we only need to compute \"half\" of the matrix since the distance between two clusters `c1` and `c2` is naturally the same as between `c2` and `c1`. Also the diagonal of the matrix needs to remain $\\infty$ (`np.Inf`) since the distance to a cluster to itself is 0 which would mess up the algorithm.\n",
    "\n",
    "You can use the code cell below to test your implementation. Since there are only 2 clusters, the distance matrix is only a $2\\times 2$ matrix, with only one value not being infinity."
   ]
  },
  {
   "cell_type": "code",
   "execution_count": 28,
   "id": "3ab065bb-da4d-4d52-93a1-7b05dec4d12d",
   "metadata": {},
   "outputs": [
    {
     "name": "stdout",
     "output_type": "stream",
     "text": [
      "[[inf  6.]\n",
      " [inf inf]]\n"
     ]
    }
   ],
   "source": [
    "print(MyAgglomerativeClustering(linkage=\"average\").generate_distance_matrix([c1, c2]))"
   ]
  },
  {
   "cell_type": "markdown",
   "id": "9bf38984-fb30-48ba-a682-6e33df9cff89",
   "metadata": {},
   "source": [
    "For `linkage\"average\"`, the expected output of the code cell above is\n",
    "\n",
    "```\n",
    "array([[inf,  6.],\n",
    "       [inf, inf]])\n",
    "```\n",
    "\n",
    "Of course, for different linkage methods, the matrix will look different."
   ]
  },
  {
   "cell_type": "markdown",
   "id": "8e73bede-de20-487e-9824-27fac48062c9",
   "metadata": {},
   "source": [
    "#### 3.1 c) Find all Clusterings (5 Points)\n",
    "\n",
    "You have now implemented all the building blocks to compute the complete clustering hierarchy, i.e., all clusterings for each merge step.\n",
    "\n",
    "**Task: Implement the method `fit()` to perform AGNES clustering!** The main steps needed here are simply (a) to find the pair of closest clusters and (b) to merge these to closest clusters to form a new clustering. This means, of course, that in each iteration, the number of clusters will decrease by 1, until we only have one cluster containing all document vectors left. At this point, the algorithm is done (cf. the condition for the `while` loop).\n",
    "\n",
    "(Hint: the method [`np.unravel_index`](https://numpy.org/doc/stable/reference/generated/numpy.unravel_index.html) might come in handy; while not required, it should make your code snippet much shorter)\n",
    "\n",
    "You can test your implementation with the code cell below. It plots the clusters after each calculation, where each cluster is represented by the document vectors of the same color. This means, of course, that in the first plot, all document vectors have a different color, while in the last plot, all document vectors have the same color.\n"
   ]
  },
  {
   "cell_type": "code",
   "execution_count": 6,
   "id": "f032e17c",
   "metadata": {},
   "outputs": [],
   "source": [
    "X_agnes = np.array([[0, 0], [4, 0], [5, 0], [20, 0], [25, 0], [39, 0], [43, 0], [44, 0]])"
   ]
  },
  {
   "cell_type": "code",
   "execution_count": 13,
   "id": "3d288efe-9f69-48e5-b810-37066b9cb38a",
   "metadata": {},
   "outputs": [
    {
     "name": "stdout",
     "output_type": "stream",
     "text": [
      "[[0 0]\n",
      " [4 0]\n",
      " [5 0]]\n",
      "[[20  0]\n",
      " [25  0]\n",
      " [39  0]\n",
      " [43  0]\n",
      " [44  0]]\n"
     ]
    }
   ],
   "source": [
    "my_agnes = MyAgglomerativeClustering(linkage=\"single\").fit(X_agnes)\n",
    "# my_agnes = MyAgglomerativeClustering(linkage=\"complete\").fit(X_agnes)\n",
    "# my_agnes = MyAgglomerativeClustering(linkage=\"average\").fit(X_agnes)\n",
    "\n",
    "for clustering in my_agnes.clustering_hierarchy[-2]:\n",
    "    print(clustering)\n",
    "    \n",
    "#     plot_agnes_clustering(clustering)"
   ]
  },
  {
   "cell_type": "markdown",
   "id": "2fbe9257-8b25-4965-b6df-90f0a261ada3",
   "metadata": {},
   "source": [
    "### 3.2 Questions (9 points)\n",
    "\n",
    "#### 3.2 a) Comparing Linkage Methods (3 Points)\n",
    "\n",
    "Let's assume we have a dataset consisting of all integer numbers from 1 to 1,000 (i.e., we have a 1-dimensional dataset). We now want to cluster these numbers using AGNES, with the Euclidean Distance as our distance measure. The only additional rules, if 2 clusters have the same distance, we break the tie by selecting the two clusters that contain the smallest integer! For example, independent from the linkage method, we will always merge clusters (1) and (2) to cluster (1, 2) first; although clusters (44) and (45) have the same distance.\n",
    "\n",
    "We cluster this dataset using the three Linkage methods *Single Linkage*, *Complete Linkage*, and *Average Linkage*. For each of the three Linkage methods, what are the sizes of the last 2 clusters to be merged -- that is, what is the number of elements (here: the integers) in the 2 clusters at the root of the resulting dendrograms. Provide a brief explanation for your answers!\n",
    "\n",
    "**Your Answer:**"
   ]
  },
  {
   "cell_type": "markdown",
   "id": "3b0220eb-53fc-4112-87bf-9e13d1e2cded",
   "metadata": {},
   "source": [
    "\n",
    "| Linkage Method | Size of 1st cluster | Size of 2nd cluster | Brief explanation |                                                            \n",
    "|--- |--- |--- |--- |\n",
    "| Single Linkage  | **999** | ***1*** | ***Here, since min distance is calculated, initially 1 and 2 are selected, then (1,2) and 3 are selected since min distance between clusters is 1 and finally (1...999) and 1000 are clustered*** |\n",
    "| Complete Linkage  | ***512*** | ***488*** | <b>Here, since max distance is calculated, initially the clusters will be (1,2),(3,4)...(999,1000), then (1,2,3,4),(5,6,7,8)...and finally clusters (1,2..512) and (513,514..1000) are clustered</b> |\n",
    "| Average Linkage  | ***512*** | ***488*** | ***Here, average distance is calulated and the clusters are formed as similar to complete linkage*** |"
   ]
  },
  {
   "cell_type": "markdown",
   "id": "05a589cb-eaa4-427c-95d6-879c125c6afd",
   "metadata": {},
   "source": [
    "#### 3.2 b) Questions about K-Means (6 Points)\n",
    "\n",
    "In the table below are 6 statements that are either True or False. Complete the table to specify whether a statement is True or False, and provide a brief explanation for your answer (Your explanation is more important than a simple True/False answer)."
   ]
  },
  {
   "cell_type": "markdown",
   "id": "a11e82b0-8997-4158-bdf2-647c276dc6e7",
   "metadata": {},
   "source": [
    "This is a markdown cell. Please fill in your answers for (1)~(6).\n",
    "\n",
    "| No. | Statement                                                                                               \t| True or False?   \t| Brief Explanation |\n",
    "|-----|------------------------------------------------------------------------------------------------------------|--------------| ------- |\n",
    "| (1)  | When using K-Means++, then centroids are always at the position of existing data points | ***True*** | ***In K-means++, the centroid is selected from the data points***\n",
    "| (2)  | K-Means++ ensures that the result will not include any empty clusters. | ***False*** | ***Duplicate values and if k > (number of unique data points) can cause empty clusters***\n",
    "| (3)  | K-Means, independent of the initialization method, will always converge to a local minimum | ***True*** |  ***Since K-means is an iterative algorithm, it converges when the configuration doesn't change and the fixed configuration happens in local or gloabl optimum. Several random initialization are done to address this issue.*** |\n",
    "| (4)  | K-Means++ will always converge to the global optimum. | ***False*** | ***It is not guaranteed that K-Means++ will achieve gloabl optimum***  |\n",
    "| (5)  | K-Means++ initialization is more costly than a random initialization of the centroids but generally converges faster. | ***True*** | <b>Since, only one centroid is initialized, and then distance is calculated to all points to select the next centroid, it is computationally more expensive. However, based on multiple real world experiments, as shown in the original paper, it generally converges faster</b> |\n",
    "| (6)  | K-Means is insensitive to data scaling (i.e., multiplying or dividing all numerical features by a constant value) -- that is, for the same $k$ and the same initial centroids, K-Means will yield the same clusters where the data is scaled or not. | ***False*** | ***If the centroids are also scaled, then it will yield same results, otherwise not*** |\n",
    "| (7)  | K-Means is insensitive to data standardization (i.e., subtract mean, divide by standard deviation) -- that is, for the same $k$ and the same initial centroids, K-Means will yield the same clusters where the data is standardized or not. | ***False*** | ***K-Means is sensitive to data standardization, as the distance changes and hence the clustering assignment will also change accordingly*** |\n"
   ]
  },
  {
   "cell_type": "markdown",
   "id": "6f7e2241-975d-4032-b43a-e51a8c8b32c7",
   "metadata": {},
   "source": [
    "---"
   ]
  },
  {
   "cell_type": "markdown",
   "id": "5ec0e6c9-c996-4dae-b0aa-0075f16c456a",
   "metadata": {},
   "source": [
    "## Summary\n",
    "\n",
    "Distance-based methods are fundamental in text mining for tasks such as clustering and classification.\n",
    "\n",
    "* Clustering involves grouping similar documents together based on their distance in a multidimensional space. Text documents are often represented as high-dimensional vectors, with each dimension corresponding to a term or word in the vocabulary. Techniques like k-means clustering or hierarchical clustering are commonly used to group documents based on their proximity in this vector space.\n",
    "\n",
    "* K-nearest neighbors (KNN) classification is another distance-based method used in text mining. In KNN, a new document is classified based on the class labels of its nearest neighbors in the feature space. The class labels of the nearest neighbors are determined by measuring distances, often using metrics like Euclidean distance or cosine similarity.\n",
    "\n",
    "Both clustering and KNN classification rely on the concept of distance or similarity between documents to make decisions about grouping or classification. These methods are powerful in text mining because they can handle large datasets and are relatively easy to implement. However, the choice of distance metric and the representation of text data can significantly impact the performance of these methods."
   ]
  }
 ],
 "metadata": {
  "kernelspec": {
   "display_name": "Python 3 (ipykernel)",
   "language": "python",
   "name": "python3"
  },
  "language_info": {
   "codemirror_mode": {
    "name": "ipython",
    "version": 3
   },
   "file_extension": ".py",
   "mimetype": "text/x-python",
   "name": "python",
   "nbconvert_exporter": "python",
   "pygments_lexer": "ipython3",
   "version": "3.11.4"
  }
 },
 "nbformat": 4,
 "nbformat_minor": 5
}
