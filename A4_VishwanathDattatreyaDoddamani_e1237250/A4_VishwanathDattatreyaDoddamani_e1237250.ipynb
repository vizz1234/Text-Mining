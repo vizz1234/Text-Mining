{
 "cells": [
  {
   "cell_type": "markdown",
   "id": "7f33ed47-ef3a-4c59-ba65-d7564aa888e7",
   "metadata": {},
   "source": [
    "# Assignment 4: Information Extraction\n",
    "\n",
    "Hello everyone, this assignment notebook covers the **Information Extraction**. There are some code-completion tasks in this notebook. For each code completion task, please write down your answer (i.e., your lines of code) between sentences that `Your code starts here` and `Your code ends here`. The space between these two lines does not reflect the required or expected lines of code.\n",
    "\n",
    "When you work on this notebook, you can insert additional code cells (e.g., for testing) or markdown cells (e.g., to keep track of your thoughts). However, before the submission, please remove all those additional cells again. Thanks!\n",
    "\n",
    "**Important:**\n",
    "* Remember to rename and save this Jupyter notebook as **A4_YourName_YourNUSNETID.ipynb** (e.g., **A4_BobSmith_e12345678.ipynb**) before submission!\n",
    "* Remember to rename and save the script file **A4.py** as **A4_YourName_YourNUSNETID.py** (e.g., **A4_BobSmith_e12345678.py**) before submission! \n",
    "* Submission deadline is Apr 16, 11.59 pm. Late submissions will be penalized by 10% for each additional day.\n",
    "\n",
    "Please also add your nusnet and student id in the code cell below. This is just to make any identification of your notebook doubly sure."
   ]
  },
  {
   "cell_type": "code",
   "execution_count": 1,
   "id": "87e0f1da-e5ed-4403-b65b-e033291695a7",
   "metadata": {},
   "outputs": [],
   "source": [
    "student_id = 'A0286188L'\n",
    "nusnet_id = 'E1237250'"
   ]
  },
  {
   "cell_type": "markdown",
   "id": "f939dc46-8aa2-47d0-8ef9-3b6ed06b96e0",
   "metadata": {},
   "source": [
    "Here is an overview over the tasks to be solved and the points associated with each task. The notebook can appear very long and verbose, but note that a lot of parts are there to provide additional explanations, documentation, or some discussion. The code and markdown cells you are supposed to complete are well marked, but you can use the overview below to double-check that you covered everything.\n",
    "\n",
    "* **1 Keyword Extraction (16 Points)**\n",
    "    * 1.1 Implement RAKE (12 Points)\n",
    "        * 1.1 a) Extracting all Candidates (3 Points)\n",
    "        * 1.1 b) Calculating Term Scores (6 Points)\n",
    "        * 1.1 c) Returning Top Keywords (3 Points)\n",
    "    * 1.2 Limitations, Challenges, and Potential Improvements (4 Points)\n",
    "* **2 Simple Text Summarization With TextRank (16 Points)**\n",
    "    * 2.1 Calculating TextRank Scores (10 Points)\n",
    "        * 2.1 a) Creating the Transition Matrix (2 Points)\n",
    "        * 2.1 b) Implementing the Power Method (8 Points)\n",
    "    * 2.2 Converting a Document to a Graph (6 Points)\n",
    "        * 2.2 a) Preprocessing Sentences (2 Points)\n",
    "        * 2.2 b) Creating Adjacency Matrix (4 Points)\n",
    "* **3 Relation Extraction & Entity Linking (18 Points)**\n",
    "    * 3.1 Extracting Hyponym Relationships (13 Points)\n",
    "        * 3.1 a) Implement a Basic Hearst Pattern (8 Points)\n",
    "        * 3.1 b) Limitations, Challenges, and Potential Improvements (5 Points)\n",
    "    * 3.2 Entity Linking (5 Points)\n",
    "        * 3.2 a) Limitations, Challenges, and Potential Improvements (5 Points)"
   ]
  },
  {
   "cell_type": "markdown",
   "id": "677cd545-1fb7-46f8-af42-badbb026ab26",
   "metadata": {
    "tags": []
   },
   "source": [
    "### Notebook Setup\n",
    "\n",
    "The following code cell ensures that the `.py` file gets automatically reloaded after you save any changes."
   ]
  },
  {
   "cell_type": "code",
   "execution_count": 2,
   "id": "08b0b02c-ab64-400b-8f53-0655a0fa68ec",
   "metadata": {},
   "outputs": [],
   "source": [
    "%load_ext autoreload\n",
    "%autoreload 2"
   ]
  },
  {
   "cell_type": "code",
   "execution_count": 3,
   "id": "b3f1b2c8-e1e9-4ba3-9ca8-8f0b2994ed75",
   "metadata": {},
   "outputs": [],
   "source": [
    "import numpy as np\n",
    "\n",
    "from src.utils import plot_graph\n",
    "\n",
    "np.set_printoptions(precision=3)"
   ]
  },
  {
   "cell_type": "code",
   "execution_count": 4,
   "id": "aed00678-c167-4501-8986-8529a44800f8",
   "metadata": {},
   "outputs": [],
   "source": [
    "import spacy\n",
    "from spacy import displacy\n",
    "\n",
    "nlp = spacy.load(\"en_core_web_sm\")"
   ]
  },
  {
   "cell_type": "markdown",
   "id": "245ee4d9-a13f-4ec9-a734-1e09e5b7d0c4",
   "metadata": {},
   "source": [
    "**Important:** This notebook also requires you to complete in a separate `.py` script file. This keeps this notebook cleaner and simplifies testing your implementations for us. As you need to rename the file `A4.py`, you also need to edit the import statement below accordingly."
   ]
  },
  {
   "cell_type": "code",
   "execution_count": 5,
   "id": "03e3c54e-0744-4031-877a-9f0b6d9d8b36",
   "metadata": {},
   "outputs": [],
   "source": [
    "from A4_VishwanathDattatreyaDoddamani_e1237250 import MyRAKE, MyTextRank, MyRelationExtractor\n",
    "#from A4_BobSmith_e12345678 import MyRAKE, MyTextRank, MyRelationExtractor"
   ]
  },
  {
   "cell_type": "markdown",
   "id": "88dbd571-9a41-4413-8913-0a61fb18db1b",
   "metadata": {},
   "source": [
    "---"
   ]
  },
  {
   "cell_type": "markdown",
   "id": "141c4d7e-3da4-421d-86f7-b01a3fc0ac5e",
   "metadata": {
    "tags": []
   },
   "source": [
    "## 1 Keyword Extraction (16 Points)"
   ]
  },
  {
   "cell_type": "markdown",
   "id": "b3f498b0-4e8f-402d-b1c5-ed0b5e25d4e5",
   "metadata": {
    "tags": []
   },
   "source": [
    "### 1.1 Implement RAKE (12 Points)\n",
    "\n",
    "In this section, your task is to implement The RAKE algorithm. You can find the skeleton code for class `MyRAKE` in the `.py` file. As usual, this notebook will guide you step by step through the implementation process. \n",
    "\n",
    "RAKE (Rapid Automatic Keyword Extraction) is a simple algorithm used for automatic keyword extraction from text. The RAKE algorithm works by first splitting the text into segments (the keyword candidates), and then identifying the best keywords based on the scores for their individual terms (i.e., individual words). The score of a term is based on its frequency in the document and its co-occurrence with other terms.\n",
    "\n",
    "One of the key features of the RAKE algorithm is that it uses a list of stopwords (common words like *\"the\"*, *\"and\"*, *\"a\"*, etc.) to filter out non-important words from consideration. It also allows for the inclusion of domain-specific stopwords and custom word delimiters, but which we ignore here. Overall, the RAKE algorithm is a fast and effective method for identifying important keywords in a text document, and can be useful in a variety of natural language processing tasks, such as text classification, information retrieval, and document summarization.\n",
    "\n",
    "In the following, we use the short example text we used in the lecture. This allows you to directly compare the results."
   ]
  },
  {
   "cell_type": "code",
   "execution_count": 6,
   "id": "a20f682f-2e09-4760-8a0f-de0a2ff019ae",
   "metadata": {},
   "outputs": [],
   "source": [
    "text = \"Keyword extraction is not that difficult after all. There are awesome libraries that can help you with keyword extraction. Rapid automatic keyword extraction is one of those.\"\n",
    "\n",
    "# Analyze text with spaCy\n",
    "doc = nlp(text)"
   ]
  },
  {
   "cell_type": "markdown",
   "id": "0ed45d96-cc0a-434d-baaf-e8b72f7863e9",
   "metadata": {},
   "source": [
    "#### 1.1 a) Extracting all Candidates (3 Points)\n",
    "\n",
    "The first step of RAKE is to split the input text into segments. To keep it simple, we consider only 2 types of boundaries: **punctuation marks** and **stopwords** (i.e., you do not need to consider other possible boundaries such as parentheses/brackets, etc.).\n",
    "\n",
    "**Task: Implement the method `extract_candidates()` to segment the input text!** Note that the input for this method is *not* the raw text but the document analyzed by `spaCy`. Not only does it take care of the tokenization, it also makes it very easy to identify the segment boundaries -- you can check out the examples on the [spaCy 101](https://spacy.io/usage/spacy-101) page. The method should return 2 outputs\n",
    "\n",
    "* The list of all segments (i.e., keyword candidates), where each segment is a list of terms (cf. the expected example output below)\n",
    "\n",
    "* The set of all terms (i.e., the vocabulary)"
   ]
  },
  {
   "cell_type": "code",
   "execution_count": 7,
   "id": "c218bb46-33dd-45fd-a65f-fd175c389c5d",
   "metadata": {},
   "outputs": [
    {
     "name": "stdout",
     "output_type": "stream",
     "text": [
      "List of Candidates:\n",
      "\t['keyword', 'extraction']\n",
      "\t['difficult']\n",
      "\t['awesome', 'libraries']\n",
      "\t['help']\n",
      "\t['keyword', 'extraction']\n",
      "\t['rapid', 'automatic', 'keyword', 'extraction']\n",
      "\n",
      "Vocabulary\n",
      "{'keyword', 'rapid', 'help', 'automatic', 'difficult', 'awesome', 'libraries', 'extraction'}\n"
     ]
    }
   ],
   "source": [
    "rake = MyRAKE()\n",
    "\n",
    "candidates, vocabulary = rake.extract_candidates(doc)\n",
    "\n",
    "print(\"List of Candidates:\")\n",
    "for cand in candidates:\n",
    "    print(\"\\t{}\".format(cand))\n",
    "print()\n",
    "print(\"Vocabulary\")\n",
    "print(vocabulary)"
   ]
  },
  {
   "cell_type": "markdown",
   "id": "f73e5da0-fa56-4ad2-be67-92f930af0239",
   "metadata": {},
   "source": [
    "The expected output of the code cell above is:\n",
    "\n",
    "```\n",
    "List of Candidates:\n",
    "\t['keyword', 'extraction']\n",
    "\t['difficult']\n",
    "\t['awesome', 'libraries']\n",
    "\t['help']\n",
    "\t['keyword', 'extraction']\n",
    "\t['rapid', 'automatic', 'keyword', 'extraction']\n",
    "\n",
    "Vocabulary\n",
    "{'libraries', 'awesome', 'rapid', 'automatic', 'keyword', 'extraction', 'help', 'difficult'}\n",
    "```\n",
    "\n",
    "**Note:** The order of segments in `candidates` and the terms in `vocabulary` might differ depending on your exact implementation; and `vocabulary` is just a set anyway."
   ]
  },
  {
   "cell_type": "markdown",
   "id": "e8c4e522-96a5-4250-a3cb-104ade16a074",
   "metadata": {},
   "source": [
    "#### 1.1 b) Calculating Term Scores (6 Points)\n",
    "\n",
    "RAKE first scores all terms individually. More specifically, the scores are computed for each score:\n",
    "\n",
    "* Term Frequency $freq(t)$: total number of times term $t$ appears in the document\n",
    "\n",
    "* Term Degree $deg(t)$: the number of times term $t$ is co-occurring with the other terms\n",
    "\n",
    "The final score of a term $t$ is the calculated as\n",
    "\n",
    "$$\n",
    "score(t) = \\frac{deg(t)}{freq(t)}\n",
    "$$\n",
    "\n",
    "**Task: Implement the method `calc_term_scores()` to calculate scores for each term according to the formula above!** With the description above and the example in the lecture slide, this should be very easy to implement.\n"
   ]
  },
  {
   "cell_type": "code",
   "execution_count": 8,
   "id": "351903bc-c0c8-4435-ac0c-125c900396e7",
   "metadata": {},
   "outputs": [
    {
     "data": {
      "text/plain": [
       "{'keyword': 2.6666666666666665,\n",
       " 'rapid': 4.0,\n",
       " 'help': 1.0,\n",
       " 'automatic': 4.0,\n",
       " 'difficult': 1.0,\n",
       " 'awesome': 2.0,\n",
       " 'libraries': 2.0,\n",
       " 'extraction': 2.6666666666666665}"
      ]
     },
     "execution_count": 8,
     "metadata": {},
     "output_type": "execute_result"
    }
   ],
   "source": [
    "term_scores = rake.calc_term_scores(candidates, vocabulary)\n",
    "\n",
    "term_scores"
   ]
  },
  {
   "cell_type": "markdown",
   "id": "daa986b5-9957-4f54-bc11-017956717ec0",
   "metadata": {},
   "source": [
    "The expected output of the code cell above is:\n",
    "\n",
    "```\n",
    "{'extraction': 2.6666666666666665,\n",
    " 'awesome': 2.0,\n",
    " 'rapid': 4.0,\n",
    " 'libraries': 2.0,\n",
    " 'difficult': 1.0,\n",
    " 'keyword': 2.6666666666666665,\n",
    " 'help': 1.0,\n",
    " 'automatic': 4.0}\n",
    "```\n",
    "\n",
    "**Note:** The order of terms in `term_scores` might differ depending on your exact implementation."
   ]
  },
  {
   "cell_type": "markdown",
   "id": "bf096f0e-dc29-4fe9-ae5c-700b47fce623",
   "metadata": {},
   "source": [
    "#### 1.1 c) Returning Top Keywords (3 Points)\n",
    "\n",
    "The last step is to score each candidate and return the candidates with the highest scores as the final keywords. Recall that the score of a candidate is simply the sum of the scores of its individual terms.\n",
    "\n",
    "**Task: Implement the method `get_top_keywords()` to calculate scores of all candidates and return the highest-ranked candidates!**\n",
    " "
   ]
  },
  {
   "cell_type": "code",
   "execution_count": 9,
   "id": "5639edd0-942d-4534-bc62-df01f97ed07a",
   "metadata": {},
   "outputs": [
    {
     "data": {
      "text/plain": [
       "[('rapid automatic keyword extraction', 13.333333333333332),\n",
       " ('keyword extraction', 5.333333333333333)]"
      ]
     },
     "execution_count": 9,
     "metadata": {},
     "output_type": "execute_result"
    }
   ],
   "source": [
    "top_keywords_scored = rake.get_top_keywords(candidates, term_scores, top=2)\n",
    "\n",
    "top_keywords_scored"
   ]
  },
  {
   "cell_type": "markdown",
   "id": "d0180df7-4b3e-450e-923a-34141e977adc",
   "metadata": {},
   "source": [
    "The expected output of the code cell above -- assuming `top=2` -- is:\n",
    "\n",
    "```\n",
    "[('rapid automatic keyword extraction', 13.333333333333332),\n",
    " ('keyword extraction', 5.333333333333333)]\n",
    "```"
   ]
  },
  {
   "cell_type": "markdown",
   "id": "e9454ee8-5d49-4da7-b971-135a7e1b9583",
   "metadata": {
    "tags": []
   },
   "source": [
    "### 1.2 Limitations, Challenges, and Potential Improvements (4 Points)\n",
    "\n",
    "RAKE is a straightforward algorithm for keyword extraction. This makes it easy to implement and to understand the results. However, its simplicity also means the results can often be subpar compared to more sophisticated approaches -- and here we are only talking about other unsupervised methods! Let's have a look at your implementation of `MyRAKE`\n",
    "\n",
    "**Question: What are the limitations of your `MyRAKE` class and/or the RAKE algorithm in general?** Hint: Consider what kind of keywords might be overemphasized or underemphasized by RAKE, or what other criteria that intuitively make a keyword are not considered by RAKE. For any limitation, **briefly sketch** how your implementation could be extended to reduce or even overcome this limitation.\n",
    "\n",
    "**Note:** There is no single set of possible answers. This question aims to check your understanding of the algorithm and its limitations.\n",
    "\n",
    "**Your Answer:** \n",
    "\n",
    "1) RAKE negatively affects the scores of a word if it is frequent. This might lead to RAKE underemphasizing words if the frequent word is actually a keyword (For ex: a paper about neural networks, consists 'neural network' a lot, and it is a keyword, but RAKE might not rank this higher). **Potential Solution**: Making use of dependency graph might address some of the issues such as if a word is parent of lot of words, then identifying compound word might result in better keyword extraction (RAKE would have underemphasized since the word might co-occur less with other words)\n",
    "\n",
    "2) RAKE might overemphasize a certain word and miss out on a potential keyword. For example, climate change paper might contain 'climate' and 'change' with lot of other words. This might result in RAKE giving 'climate' and 'change' as separate keywords rather than 'climate change' which is an actual keyword. **Potential Solution**:  Using pos tagging might address the issue of overemphasizing. For example, words which are used as a noun can only be considered as candidates and this takes context into consideration resulting in better keyword extraction.\n",
    "\n",
    "3) RAKE treats all words equally and does not take context into consideration. If a word is used in multiple context, then RAKE might overemphasize the word. **Potential Solution**: Utilize semantic analysis techniques to understand the underlying meaning and relationships between words. Words that are semantically related or co-occur frequently within the document should be given higher importance as keywords.\n",
    "\n",
    "\n",
    "4) RAKE selects canidates based on segment boundaries. If a stopword is part of keyword, then it might miss out on potential keyword and wrongly identify candidate. For Example, the text 'Today we are going to learn Yet Another Keyphrase Extraction technique for keyword extraction', this will not identify 'Yet Another Keyphrase Extraction' as a candidate as 'Yet' and 'Another' are stopwords. **Potential Improvement**: If a stopword is not starting in the beginning and is capitalized, do not consider it as a segement boundary."
   ]
  },
  {
   "cell_type": "markdown",
   "id": "1254fa2a-5ef7-46f8-896d-8ac142506d3a",
   "metadata": {},
   "source": []
  },
  {
   "cell_type": "markdown",
   "id": "2cf83c5c-e4c5-452e-878f-9fad1c5b3de4",
   "metadata": {},
   "source": [
    "---"
   ]
  },
  {
   "cell_type": "markdown",
   "id": "5c86270a-f938-4ff8-80e8-4adc1884b68e",
   "metadata": {
    "tags": []
   },
   "source": [
    "## 2 Simple Text Summarization With TextRank (16 Points)\n",
    "\n",
    "The TextRank algorithm is a graph-based ranking algorithm for natural language processing and information retrieval. It was originally proposed in a 2004 paper by Rada Mihalcea and Paul Tarau. The algorithm works by representing a text as a graph, where each sentence is a node and the edges between the nodes represent the relationships between the sentences. These relationships are determined by measuring the similarity between pairs of sentences. The similarity measure can be based on various features of the text, such as word overlap, co-occurrence, and semantic similarity.\n",
    "\n",
    "Once the graph has been constructed, the TextRank algorithm applies an iterative algorithm similar to Google's PageRank to rank the sentences based on their importance. The importance of a sentence is determined by its centrality within the graph, which takes into account both its own importance and the importance of the sentences it is connected to. The resulting ranked list of sentences can be used for various tasks, such as summarization, keyphrase extraction, and information retrieval. The TextRank algorithm has been shown to be effective and efficient, and has been used in many applications in natural language processing.\n",
    "\n",
    "Your task in this section is to implement TextRank by completing the skeleton code of class `MyTextRank` in the `.py` file. We saw in the lecture that TextRank can be used for keyword extraction (words become nodes) and sentence extraction (sentences become nodes) for simple document summarization. In this section, we focus on the latter."
   ]
  },
  {
   "cell_type": "markdown",
   "id": "b37c6a8f-c9ea-45c4-8643-848ec75ee3f3",
   "metadata": {
    "tags": []
   },
   "source": [
    "### 2.1 Calculating TextRank Scores (10 Points)\n",
    "\n",
    "We start by implementing the Power Method to calculate the PageRank scores for a given graph. This means we assume that we already have converted our input text into a graph -- we will do this later. For this part, we use the same graph that we have seen in the lecture slides, so you can easily compare the results. Let's first create the graph by means of its adjacency matrix, and plot the graph. For the plotting, we provide you with the method `plot_graph()` you can find in `src/utils.py`.\n"
   ]
  },
  {
   "cell_type": "code",
   "execution_count": 14,
   "id": "3cf7e7bb-9755-4f37-ab6a-b57daa078df9",
   "metadata": {},
   "outputs": [
    {
     "data": {
      "image/png": "[encoded data removed]",
      "text/plain": [
       "<Figure size 640x480 with 1 Axes>"
      ]
     },
     "metadata": {},
     "output_type": "display_data"
    }
   ],
   "source": [
    "A = np.array([\n",
    "    [0, 1, 1, 0, 0],\n",
    "    [0, 0, 1, 1, 1],\n",
    "    [0, 0, 0, 0, 1],\n",
    "    [1, 0, 0, 0, 0],\n",
    "    [1, 0, 1, 0, 0],\n",
    "], dtype=np.float64)\n",
    "\n",
    "plot_graph(A, pos={0:(0,0), 1:(-6,2), 2:(-4,0), 3:(4,1), 4:(-7,-2)})"
   ]
  },
  {
   "cell_type": "markdown",
   "id": "e8da683f-f8a0-4b65-be68-07d14c0e9c64",
   "metadata": {
    "tags": []
   },
   "source": [
    "#### 2.1 a) Creating the Transition Matrix (2 Points)\n",
    "\n",
    "We saw in the lecture that computing the PageRank scores of nodes in a graph translates to calculating the largest Eigenvector of the respective transition matrix `M`. The transition matrix `M` can be computed by transposing the adjacency matrix `A` and normalizing it so the column values sum up to 1, making `M` column-stochastic.\n",
    "\n",
    "**Task: Implement the method `create_transition_matrix()` to calculate the transition matrix!** With the description above and the example in the lecture slide, this should be very easy to implement.\n"
   ]
  },
  {
   "cell_type": "code",
   "execution_count": 15,
   "id": "37094e3a-3d1c-427d-a200-fef545bf289f",
   "metadata": {},
   "outputs": [
    {
     "name": "stdout",
     "output_type": "stream",
     "text": [
      "Transition Matrix M:\n",
      "[[0.    0.    0.    1.    0.5  ]\n",
      " [0.5   0.    0.    0.    0.   ]\n",
      " [0.5   0.333 0.    0.    0.5  ]\n",
      " [0.    0.333 0.    0.    0.   ]\n",
      " [0.    0.333 1.    0.    0.   ]]\n"
     ]
    }
   ],
   "source": [
    "textrank = MyTextRank()\n",
    "\n",
    "M = textrank.create_transition_matrix(A)\n",
    "\n",
    "print(\"Transition Matrix M:\")\n",
    "print(M)"
   ]
  },
  {
   "cell_type": "markdown",
   "id": "60b3d134-04a6-4e15-8fbd-1b1a66d5aa66",
   "metadata": {},
   "source": [
    "The expected output of the code cell above is:\n",
    "\n",
    "```\n",
    "Transition Matrix M:\n",
    "[[0.    0.    0.    1.    0.5  ]\n",
    " [0.5   0.    0.    0.    0.   ]\n",
    " [0.5   0.333 0.    0.    0.5  ]\n",
    " [0.    0.333 0.    0.    0.   ]\n",
    " [0.    0.333 1.    0.    0.   ]]\n",
    "```"
   ]
  },
  {
   "cell_type": "markdown",
   "id": "0c08dd33-fce7-4b35-adce-5e77aecea2e9",
   "metadata": {
    "tags": []
   },
   "source": [
    "#### 2.1 b) Implementing the Power Method (8 Points)\n",
    "\n",
    "With the transition matrix `M` we can now compute the PageRank score for each node. Recall that PageRank was defined as\n",
    "\n",
    "$$\n",
    "PR(v) = \\alpha\\cdot M\\cdot PR(v) + (1-\\alpha)\\cdot E\n",
    "$$\n",
    "\n",
    "where $E = (1/n, 1/n, ..., 1/n)^T$ with $n$ being the number of nodes.\n",
    "\n",
    "**Task: Implement the `power_method()` to compute the largest Eigenvector of input matrix M!** The lecture slides include the algorithm for the Power Method in pseudo code. Note, however, that you need to extend the algorithm slightly to accommodate the PageRank-specific details (e.g., your implementation needs to reflect damping factor $\\alpha$ and vector $E$).\n"
   ]
  },
  {
   "cell_type": "code",
   "execution_count": 16,
   "id": "1aa2d269-ee92-4f2f-84dd-49e54f384bdd",
   "metadata": {},
   "outputs": [
    {
     "name": "stdout",
     "output_type": "stream",
     "text": [
      "All nodes with their PageRank scores:\n",
      "Node 0: 0.216\n",
      "Node 1: 0.122\n",
      "Node 2: 0.288\n",
      "Node 3: 0.065\n",
      "Node 4: 0.309\n"
     ]
    }
   ],
   "source": [
    "scores = textrank.power_method(M)\n",
    "\n",
    "print(\"All nodes with their PageRank scores:\")\n",
    "for node, score in scores.items():\n",
    "    print(\"Node {}: {:.3f}\".format(node, score))"
   ]
  },
  {
   "cell_type": "markdown",
   "id": "f2d55ca9-3f76-494d-9f96-13b0e70682e5",
   "metadata": {},
   "source": [
    "The expected output of the code cell above is:\n",
    "\n",
    "```\n",
    "All nodes with their PageRank scores:\n",
    "Node 0: 0.216\n",
    "Node 1: 0.122\n",
    "Node 2: 0.288\n",
    "Node 3: 0.065\n",
    "Node 4: 0.309\n",
    "```"
   ]
  },
  {
   "cell_type": "markdown",
   "id": "4647b2ea-13a7-460e-ae5c-8e01785a9714",
   "metadata": {},
   "source": [
    "### 2.2 Converting a Document to a Graph (6 Points)\n",
    "\n",
    "With the implementation of the PageRank scores in place, we can now address the step of converting an input document into the graph. Again, here we consider TextRank for summarization, meaning that the text units that become the nodes in the graph are complete sentences -- and not individual words like for keyword extraction. For easy testing of your implementation, we consider the toy corpus from Lecture 7 as our input document. This means, we have the following 4 sentences:"
   ]
  },
  {
   "cell_type": "code",
   "execution_count": 17,
   "id": "4a6bd911-7e5c-45cd-bed6-a613b6140610",
   "metadata": {},
   "outputs": [],
   "source": [
    "sentences = [\n",
    "    \"The mayor was elected for this term and next term.\",\n",
    "    \"A mayor's goal for the next term is to win.\",\n",
    "    \"The goal for this term was to win the vote.\",\n",
    "    \"This term's goals are next term's goals.\",\n",
    "    \"The goal of any team player is the win.\",\n",
    "    \"A win for the team is a win for each player.\",\n",
    "    \"Players vote other players for another term.\"\n",
    "]"
   ]
  },
  {
   "cell_type": "markdown",
   "id": "ec348382-1161-43bc-be0f-894f6efdc4d8",
   "metadata": {},
   "source": [
    "In practice, it is unlikely that we would find those 7 sentences in the same document, but it is just for illustrative purposes here."
   ]
  },
  {
   "cell_type": "markdown",
   "id": "af324702-cf30-4964-b332-8c6229f24d4f",
   "metadata": {
    "tags": []
   },
   "source": [
    "#### 2.2 a) Preprocessing Sentences (2 Points)\n",
    "\n",
    "We know that eventually, we need to compute the similarity between sentences to determine the edge weights between the respective nodes. Apart from the selected similarity metric itself, we already know that preprocessing has a significant effect on the result. To be consistent, we perform the following preprocessing steps:\n",
    "\n",
    "* Remove all punctuation marks (i.e., only alphanumeric tokens)\n",
    "* Remove all stop words\n",
    "* Lemmatize all words\n",
    "* Lowercase all words\n",
    "\n",
    "**Task: Implement the first part of the method `convert_text_to_graph()` to preprocess the list of input sentences!** Hint: The `.py` file already imports `spacy` which we highly recommend to use; Check out the docs for the [spaCy token](https://spacy.io/api/token), especially the attributes `is_stop` and `is_alpha` to make your life much easier.\n"
   ]
  },
  {
   "cell_type": "code",
   "execution_count": 18,
   "id": "f3c59d4d-4bd6-43bb-bab3-5a323d3cb8d5",
   "metadata": {},
   "outputs": [
    {
     "data": {
      "text/plain": [
       "['mayor elect term term',\n",
       " 'mayor goal term win',\n",
       " 'goal term win vote',\n",
       " 'term goal term goal',\n",
       " 'goal team player win',\n",
       " 'win team win player',\n",
       " 'player vote player term']"
      ]
     },
     "execution_count": 18,
     "metadata": {},
     "output_type": "execute_result"
    }
   ],
   "source": [
    "textrank = MyTextRank()\n",
    "\n",
    "textrank.convert_text_to_graph(sentences, preprocess_only=True)"
   ]
  },
  {
   "cell_type": "markdown",
   "id": "14489aad-a947-4c72-8fd4-033fd90e8eee",
   "metadata": {},
   "source": [
    "The expected output of the code cell above is:\n",
    "\n",
    "```\n",
    "['mayor elect term term',\n",
    " 'mayor goal term win',\n",
    " 'goal term win vote',\n",
    " 'term goal term goal',\n",
    " 'goal team player win',\n",
    " 'win team win player',\n",
    " 'player vote player term']\n",
    "```\n",
    "\n",
    "This should also match the example in Lecture 4."
   ]
  },
  {
   "cell_type": "markdown",
   "id": "362fc576-eddd-4d67-aba6-a08f22dd5558",
   "metadata": {
    "tags": []
   },
   "source": [
    "#### 2.2 b) Creating Adjacency Matrix (4 Points)\n",
    "\n",
    "In the case of sentences being text units represented as nodes, the edge -- or more specifically the weight of the edge --  between 2 nodes is derived from the similarity between the respective sentences. There are various ways to compute the similarity between sentences (e.g., Jaccard Similarity, Cosine Similarity), but here we adhere to the metric proposed in the [original paper](https://web.eecs.umich.edu/~mihalcea/papers/mihalcea.emnlp04.pdf).\n",
    "\n",
    "In the paper, the similarity between 2 sentences is derived from the number of tokens/words both sentences have in common. To avoid promoting long sentences, the paper uses a normalization factor. The formula for calculating the similarity is thus as follows:\n",
    "\n",
    "$$\n",
    "Similarity(S_i, S_j) = \\frac{| \\{w_k\\ |\\ w_k \\in S_i \\wedge w_k \\in S_j \\} |}{\\log{|S_i|} + \\log{|S_j|}}\n",
    "$$\n",
    "\n",
    "where $\\log$ refers to the natural logarithm. Note that $S_i$ and $S_j$ are **sets of words** and not lists/sequences here.\n",
    "\n",
    "**Task: Implement the second part of the method `convert_text_to_graph()` to compute the sentence similarities!** The output of this method is a matrix representing the adjacency matrix of the result graph -- that is, the size of the matrix is $N\\times N$ with $N$ being the number of nodes/sentences, and the values representing the weights of the edges. Note that, since the similarity metric is symmetric, the output matrix also has to me symmetric w.r.t. the main diagonal.\n"
   ]
  },
  {
   "cell_type": "code",
   "execution_count": 19,
   "id": "9f2eb50c-8078-4652-81ee-2f4a2217f4dc",
   "metadata": {},
   "outputs": [
    {
     "name": "stdout",
     "output_type": "stream",
     "text": [
      "Adjacency matrix derived from example sentences.\n",
      "[[0.    0.805 0.402 0.558 0.    0.    0.455]\n",
      " [0.805 0.    1.082 0.962 0.721 0.402 0.402]\n",
      " [0.402 1.082 0.    0.962 0.721 0.402 0.805]\n",
      " [0.558 0.962 0.962 0.    0.481 0.    0.558]\n",
      " [0.    0.721 0.721 0.481 0.    1.207 0.402]\n",
      " [0.    0.402 0.402 0.    1.207 0.    0.455]\n",
      " [0.455 0.402 0.805 0.558 0.402 0.455 0.   ]]\n"
     ]
    }
   ],
   "source": [
    "textrank = MyTextRank()\n",
    "\n",
    "A = textrank.convert_text_to_graph(sentences, preprocess_only=False)\n",
    "\n",
    "print(\"Adjacency matrix derived from example sentences.\")\n",
    "print(A)"
   ]
  },
  {
   "cell_type": "markdown",
   "id": "3348fd7d-a091-46ca-98af-43c0ade8a32e",
   "metadata": {},
   "source": [
    "The expected output of the code cell above is:\n",
    "\n",
    "```\n",
    "Adjacency matrix derived from example sentences.\n",
    "[[0.    0.805 0.402 0.558 0.    0.    0.455]\n",
    " [0.805 0.    1.082 0.962 0.721 0.402 0.402]\n",
    " [0.402 1.082 0.    0.962 0.721 0.402 0.805]\n",
    " [0.558 0.962 0.962 0.    0.481 0.    0.558]\n",
    " [0.    0.721 0.721 0.481 0.    1.207 0.402]\n",
    " [0.    0.402 0.402 0.    1.207 0.    0.455]\n",
    " [0.455 0.402 0.805 0.558 0.402 0.455 0.   ]]\n",
    "```"
   ]
  },
  {
   "cell_type": "markdown",
   "id": "23ad0013-95be-4ee8-b9db-4cf6acf2c880",
   "metadata": {},
   "source": [
    "#### Putting Everything Together (nothing for you to do here)\n",
    "\n",
    "You have implemented all core methods of class `MyTextRank`. Note we already give you the method `run()` that calls each of those methods to compute PageRank scores for an input document (with the input document being represented as a list of sentences).\n"
   ]
  },
  {
   "cell_type": "code",
   "execution_count": 20,
   "id": "71ab8b67-a9c0-415e-bdcc-0767e5b7fc41",
   "metadata": {},
   "outputs": [
    {
     "name": "stdout",
     "output_type": "stream",
     "text": [
      "All nodes with their PageRank scores:\n",
      "Sentence 0: 0.100\n",
      "Sentence 1: 0.180\n",
      "Sentence 2: 0.180\n",
      "Sentence 3: 0.148\n",
      "Sentence 4: 0.149\n",
      "Sentence 5: 0.110\n",
      "Sentence 6: 0.133\n"
     ]
    }
   ],
   "source": [
    "textrank = MyTextRank()\n",
    "\n",
    "scores = textrank.run(sentences)\n",
    "    \n",
    "print(\"All nodes with their PageRank scores:\")\n",
    "for node, score in scores.items():\n",
    "    print(\"Sentence {}: {:.3f}\".format(node, score))"
   ]
  },
  {
   "cell_type": "markdown",
   "id": "cb9d76a1-0135-46e5-91e8-b6d2cc6f3039",
   "metadata": {},
   "source": [
    "The expected output of the code cell above is:\n",
    "\n",
    "```\n",
    "All nodes with their PageRank scores:\n",
    "Sentence 0: 0.100\n",
    "Sentence 1: 0.180\n",
    "Sentence 2: 0.180\n",
    "Sentence 3: 0.148\n",
    "Sentence 4: 0.149\n",
    "Sentence 5: 0.110\n",
    "Sentence 6: 0.133\n",
    "```"
   ]
  },
  {
   "cell_type": "markdown",
   "id": "2f364036-880f-45c9-ac80-52767376a744",
   "metadata": {},
   "source": [
    "---"
   ]
  },
  {
   "cell_type": "markdown",
   "id": "5b38cbbd-a3e6-4ce5-a5bf-d027c8083b06",
   "metadata": {},
   "source": [
    "## 3 Relation Extraction & Entity Linking (18 Points)\n",
    "\n",
    "Relation extraction involves identifying semantic relationships between entities in a text. In other words, it is the process of automatically identifying and extracting structured information about the relationships between two or more entities mentioned in a piece of text. The entities can be anything from people and organizations to locations, products, and events. Relation extraction involves identifying the type of relationship between these entities, such as \"works for,\" \"is married to,\" \"is located in,\" \"causes,\" \"part of,\" \"owned by,\" and so on. In this section, we focus on \"is a\" (i.e., hyponym) relationship.\n"
   ]
  },
  {
   "cell_type": "markdown",
   "id": "20f9280a-a474-4ebe-8b2f-0a3270906fe1",
   "metadata": {},
   "source": [
    "### 3.1 Extracting Hyponym Relationships (13 Points)\n",
    "\n",
    "In this section, your task is to implement a simple relation extraction algorithm. You can find the skeleton code for class `MyRelationExtractor` in the `.py` file.\n",
    "\n",
    "A hyponym relationship is a hierarchical relationship between words or concepts, where one term (the hyponym) is a specific instance of another term (the hypernym). In other words, a hyponym is a term that is subordinate or more specific in meaning to a more general or superordinate term, which is the hypernym. For example, \"apple\" is a hyponym of \"fruit,\" since apple is a specific type of fruit. The hyponym relationship is often used in taxonomies and ontologies to organize concepts in a hierarchical structure, where the hypernym is at the top of the hierarchy, and the hyponyms are arranged beneath it. \n",
    "\n",
    "Your task is to extract hyponym relationships using Hearst patterns, a set of linguistic patterns developed by Marti Hearst. Hearst's patterns are based on the observation that certain syntactic patterns in text can signal a hyponym-hypernym relationship between two nouns. For example, the pattern \"X, such as Y\" often indicates that X is a hypernym of Y. So, in the sentence \"Fruits, such as apples and oranges,\" \"fruits\" is the hypernym, and \"apples\" and \"oranges\" are the hyponyms.\n",
    "\n",
    "Let's first have a look at the example sentences:"
   ]
  },
  {
   "cell_type": "code",
   "execution_count": 21,
   "id": "e7bc72e2-5693-4774-961a-f8ab620ba476",
   "metadata": {},
   "outputs": [
    {
     "name": "stdout",
     "output_type": "stream",
     "text": [
      "John McTiernan directed many action movies such as Die Hard, Predator, and Rollerball.\n",
      "The shop specialises in tropical fruits, such as pineapples, mangoes or bananas.\n",
      "Aerobic exercises, such as jogging and running, are good for your stamina and heart.\n",
      "Louie has traveled to several places, such as Los Angeles, Chicago, and San Francisco.\n"
     ]
    }
   ],
   "source": [
    "such_as_sentences = [ line.strip() for line in open(\"data/a4-example-sentences.txt\")]\n",
    "\n",
    "for s in such_as_sentences:\n",
    "    print(s)"
   ]
  },
  {
   "cell_type": "markdown",
   "id": "6dc3df8b-9fad-423a-86f8-fe96b5ddd0ac",
   "metadata": {},
   "source": [
    "As you can see, all example include the **\"X such as Y\"** or **\"X, such as Y\"** Heart's pattern; and this is the only pattern we are considering here to keep things simple. To further simplify things, **you do not have to work on the raw input sentence** but instead can use spaCy for a basic analysis. Most importantly, spaCy computes the dependency between words, which is very useful for our task.\n",
    "\n",
    "To give an example, let's look at the dependency of the first sentence:"
   ]
  },
  {
   "cell_type": "code",
   "execution_count": 22,
   "id": "714a24be-6fb5-431b-a2ca-431b497c36bc",
   "metadata": {},
   "outputs": [
    {
     "data": {
      "text/html": [
       "<span class=\"tex2jax_ignore\"><svg xmlns=\"http://www.w3.org/2000/svg\" xmlns:xlink=\"http://www.w3.org/1999/xlink\" xml:lang=\"en\" id=\"925a25b11ccb49028cddb0286f15c989-0\" class=\"displacy\" width=\"2500\" height=\"399.5\" direction=\"ltr\" style=\"max-width: none; height: 399.5px; color: #000000; background: #ffffff; font-family: Arial; direction: ltr\">\n",
       "<text class=\"displacy-token\" fill=\"currentColor\" text-anchor=\"middle\" y=\"309.5\">\n",
       "    <tspan class=\"displacy-word\" fill=\"currentColor\" x=\"50\">Aerobic</tspan>\n",
       "    <tspan class=\"displacy-tag\" dy=\"2em\" fill=\"currentColor\" x=\"50\">ADJ</tspan>\n",
       "</text>\n",
       "\n",
       "<text class=\"displacy-token\" fill=\"currentColor\" text-anchor=\"middle\" y=\"309.5\">\n",
       "    <tspan class=\"displacy-word\" fill=\"currentColor\" x=\"225\">exercises,</tspan>\n",
       "    <tspan class=\"displacy-tag\" dy=\"2em\" fill=\"currentColor\" x=\"225\">NOUN</tspan>\n",
       "</text>\n",
       "\n",
       "<text class=\"displacy-token\" fill=\"currentColor\" text-anchor=\"middle\" y=\"309.5\">\n",
       "    <tspan class=\"displacy-word\" fill=\"currentColor\" x=\"400\">such</tspan>\n",
       "    <tspan class=\"displacy-tag\" dy=\"2em\" fill=\"currentColor\" x=\"400\">ADJ</tspan>\n",
       "</text>\n",
       "\n",
       "<text class=\"displacy-token\" fill=\"currentColor\" text-anchor=\"middle\" y=\"309.5\">\n",
       "    <tspan class=\"displacy-word\" fill=\"currentColor\" x=\"575\">as</tspan>\n",
       "    <tspan class=\"displacy-tag\" dy=\"2em\" fill=\"currentColor\" x=\"575\">ADP</tspan>\n",
       "</text>\n",
       "\n",
       "<text class=\"displacy-token\" fill=\"currentColor\" text-anchor=\"middle\" y=\"309.5\">\n",
       "    <tspan class=\"displacy-word\" fill=\"currentColor\" x=\"750\">jogging</tspan>\n",
       "    <tspan class=\"displacy-tag\" dy=\"2em\" fill=\"currentColor\" x=\"750\">VERB</tspan>\n",
       "</text>\n",
       "\n",
       "<text class=\"displacy-token\" fill=\"currentColor\" text-anchor=\"middle\" y=\"309.5\">\n",
       "    <tspan class=\"displacy-word\" fill=\"currentColor\" x=\"925\">and</tspan>\n",
       "    <tspan class=\"displacy-tag\" dy=\"2em\" fill=\"currentColor\" x=\"925\">CCONJ</tspan>\n",
       "</text>\n",
       "\n",
       "<text class=\"displacy-token\" fill=\"currentColor\" text-anchor=\"middle\" y=\"309.5\">\n",
       "    <tspan class=\"displacy-word\" fill=\"currentColor\" x=\"1100\">running,</tspan>\n",
       "    <tspan class=\"displacy-tag\" dy=\"2em\" fill=\"currentColor\" x=\"1100\">NOUN</tspan>\n",
       "</text>\n",
       "\n",
       "<text class=\"displacy-token\" fill=\"currentColor\" text-anchor=\"middle\" y=\"309.5\">\n",
       "    <tspan class=\"displacy-word\" fill=\"currentColor\" x=\"1275\">are</tspan>\n",
       "    <tspan class=\"displacy-tag\" dy=\"2em\" fill=\"currentColor\" x=\"1275\">AUX</tspan>\n",
       "</text>\n",
       "\n",
       "<text class=\"displacy-token\" fill=\"currentColor\" text-anchor=\"middle\" y=\"309.5\">\n",
       "    <tspan class=\"displacy-word\" fill=\"currentColor\" x=\"1450\">good</tspan>\n",
       "    <tspan class=\"displacy-tag\" dy=\"2em\" fill=\"currentColor\" x=\"1450\">ADJ</tspan>\n",
       "</text>\n",
       "\n",
       "<text class=\"displacy-token\" fill=\"currentColor\" text-anchor=\"middle\" y=\"309.5\">\n",
       "    <tspan class=\"displacy-word\" fill=\"currentColor\" x=\"1625\">for</tspan>\n",
       "    <tspan class=\"displacy-tag\" dy=\"2em\" fill=\"currentColor\" x=\"1625\">ADP</tspan>\n",
       "</text>\n",
       "\n",
       "<text class=\"displacy-token\" fill=\"currentColor\" text-anchor=\"middle\" y=\"309.5\">\n",
       "    <tspan class=\"displacy-word\" fill=\"currentColor\" x=\"1800\">your</tspan>\n",
       "    <tspan class=\"displacy-tag\" dy=\"2em\" fill=\"currentColor\" x=\"1800\">PRON</tspan>\n",
       "</text>\n",
       "\n",
       "<text class=\"displacy-token\" fill=\"currentColor\" text-anchor=\"middle\" y=\"309.5\">\n",
       "    <tspan class=\"displacy-word\" fill=\"currentColor\" x=\"1975\">stamina</tspan>\n",
       "    <tspan class=\"displacy-tag\" dy=\"2em\" fill=\"currentColor\" x=\"1975\">NOUN</tspan>\n",
       "</text>\n",
       "\n",
       "<text class=\"displacy-token\" fill=\"currentColor\" text-anchor=\"middle\" y=\"309.5\">\n",
       "    <tspan class=\"displacy-word\" fill=\"currentColor\" x=\"2150\">and</tspan>\n",
       "    <tspan class=\"displacy-tag\" dy=\"2em\" fill=\"currentColor\" x=\"2150\">CCONJ</tspan>\n",
       "</text>\n",
       "\n",
       "<text class=\"displacy-token\" fill=\"currentColor\" text-anchor=\"middle\" y=\"309.5\">\n",
       "    <tspan class=\"displacy-word\" fill=\"currentColor\" x=\"2325\">heart.</tspan>\n",
       "    <tspan class=\"displacy-tag\" dy=\"2em\" fill=\"currentColor\" x=\"2325\">NOUN</tspan>\n",
       "</text>\n",
       "\n",
       "<g class=\"displacy-arrow\">\n",
       "    <path class=\"displacy-arc\" id=\"arrow-925a25b11ccb49028cddb0286f15c989-0-0\" stroke-width=\"2px\" d=\"M70,264.5 C70,177.0 215.0,177.0 215.0,264.5\" fill=\"none\" stroke=\"currentColor\"/>\n",
       "    <text dy=\"1.25em\" style=\"font-size: 0.8em; letter-spacing: 1px\">\n",
       "        <textPath xlink:href=\"#arrow-925a25b11ccb49028cddb0286f15c989-0-0\" class=\"displacy-label\" startOffset=\"50%\" side=\"left\" fill=\"currentColor\" text-anchor=\"middle\">amod</textPath>\n",
       "    </text>\n",
       "    <path class=\"displacy-arrowhead\" d=\"M70,266.5 L62,254.5 78,254.5\" fill=\"currentColor\"/>\n",
       "</g>\n",
       "\n",
       "<g class=\"displacy-arrow\">\n",
       "    <path class=\"displacy-arc\" id=\"arrow-925a25b11ccb49028cddb0286f15c989-0-1\" stroke-width=\"2px\" d=\"M245,264.5 C245,2.0 1275.0,2.0 1275.0,264.5\" fill=\"none\" stroke=\"currentColor\"/>\n",
       "    <text dy=\"1.25em\" style=\"font-size: 0.8em; letter-spacing: 1px\">\n",
       "        <textPath xlink:href=\"#arrow-925a25b11ccb49028cddb0286f15c989-0-1\" class=\"displacy-label\" startOffset=\"50%\" side=\"left\" fill=\"currentColor\" text-anchor=\"middle\">nsubj</textPath>\n",
       "    </text>\n",
       "    <path class=\"displacy-arrowhead\" d=\"M245,266.5 L237,254.5 253,254.5\" fill=\"currentColor\"/>\n",
       "</g>\n",
       "\n",
       "<g class=\"displacy-arrow\">\n",
       "    <path class=\"displacy-arc\" id=\"arrow-925a25b11ccb49028cddb0286f15c989-0-2\" stroke-width=\"2px\" d=\"M420,264.5 C420,177.0 565.0,177.0 565.0,264.5\" fill=\"none\" stroke=\"currentColor\"/>\n",
       "    <text dy=\"1.25em\" style=\"font-size: 0.8em; letter-spacing: 1px\">\n",
       "        <textPath xlink:href=\"#arrow-925a25b11ccb49028cddb0286f15c989-0-2\" class=\"displacy-label\" startOffset=\"50%\" side=\"left\" fill=\"currentColor\" text-anchor=\"middle\">amod</textPath>\n",
       "    </text>\n",
       "    <path class=\"displacy-arrowhead\" d=\"M420,266.5 L412,254.5 428,254.5\" fill=\"currentColor\"/>\n",
       "</g>\n",
       "\n",
       "<g class=\"displacy-arrow\">\n",
       "    <path class=\"displacy-arc\" id=\"arrow-925a25b11ccb49028cddb0286f15c989-0-3\" stroke-width=\"2px\" d=\"M245,264.5 C245,89.5 570.0,89.5 570.0,264.5\" fill=\"none\" stroke=\"currentColor\"/>\n",
       "    <text dy=\"1.25em\" style=\"font-size: 0.8em; letter-spacing: 1px\">\n",
       "        <textPath xlink:href=\"#arrow-925a25b11ccb49028cddb0286f15c989-0-3\" class=\"displacy-label\" startOffset=\"50%\" side=\"left\" fill=\"currentColor\" text-anchor=\"middle\">prep</textPath>\n",
       "    </text>\n",
       "    <path class=\"displacy-arrowhead\" d=\"M570.0,266.5 L578.0,254.5 562.0,254.5\" fill=\"currentColor\"/>\n",
       "</g>\n",
       "\n",
       "<g class=\"displacy-arrow\">\n",
       "    <path class=\"displacy-arc\" id=\"arrow-925a25b11ccb49028cddb0286f15c989-0-4\" stroke-width=\"2px\" d=\"M595,264.5 C595,177.0 740.0,177.0 740.0,264.5\" fill=\"none\" stroke=\"currentColor\"/>\n",
       "    <text dy=\"1.25em\" style=\"font-size: 0.8em; letter-spacing: 1px\">\n",
       "        <textPath xlink:href=\"#arrow-925a25b11ccb49028cddb0286f15c989-0-4\" class=\"displacy-label\" startOffset=\"50%\" side=\"left\" fill=\"currentColor\" text-anchor=\"middle\">pobj</textPath>\n",
       "    </text>\n",
       "    <path class=\"displacy-arrowhead\" d=\"M740.0,266.5 L748.0,254.5 732.0,254.5\" fill=\"currentColor\"/>\n",
       "</g>\n",
       "\n",
       "<g class=\"displacy-arrow\">\n",
       "    <path class=\"displacy-arc\" id=\"arrow-925a25b11ccb49028cddb0286f15c989-0-5\" stroke-width=\"2px\" d=\"M770,264.5 C770,177.0 915.0,177.0 915.0,264.5\" fill=\"none\" stroke=\"currentColor\"/>\n",
       "    <text dy=\"1.25em\" style=\"font-size: 0.8em; letter-spacing: 1px\">\n",
       "        <textPath xlink:href=\"#arrow-925a25b11ccb49028cddb0286f15c989-0-5\" class=\"displacy-label\" startOffset=\"50%\" side=\"left\" fill=\"currentColor\" text-anchor=\"middle\">cc</textPath>\n",
       "    </text>\n",
       "    <path class=\"displacy-arrowhead\" d=\"M915.0,266.5 L923.0,254.5 907.0,254.5\" fill=\"currentColor\"/>\n",
       "</g>\n",
       "\n",
       "<g class=\"displacy-arrow\">\n",
       "    <path class=\"displacy-arc\" id=\"arrow-925a25b11ccb49028cddb0286f15c989-0-6\" stroke-width=\"2px\" d=\"M770,264.5 C770,89.5 1095.0,89.5 1095.0,264.5\" fill=\"none\" stroke=\"currentColor\"/>\n",
       "    <text dy=\"1.25em\" style=\"font-size: 0.8em; letter-spacing: 1px\">\n",
       "        <textPath xlink:href=\"#arrow-925a25b11ccb49028cddb0286f15c989-0-6\" class=\"displacy-label\" startOffset=\"50%\" side=\"left\" fill=\"currentColor\" text-anchor=\"middle\">conj</textPath>\n",
       "    </text>\n",
       "    <path class=\"displacy-arrowhead\" d=\"M1095.0,266.5 L1103.0,254.5 1087.0,254.5\" fill=\"currentColor\"/>\n",
       "</g>\n",
       "\n",
       "<g class=\"displacy-arrow\">\n",
       "    <path class=\"displacy-arc\" id=\"arrow-925a25b11ccb49028cddb0286f15c989-0-7\" stroke-width=\"2px\" d=\"M1295,264.5 C1295,177.0 1440.0,177.0 1440.0,264.5\" fill=\"none\" stroke=\"currentColor\"/>\n",
       "    <text dy=\"1.25em\" style=\"font-size: 0.8em; letter-spacing: 1px\">\n",
       "        <textPath xlink:href=\"#arrow-925a25b11ccb49028cddb0286f15c989-0-7\" class=\"displacy-label\" startOffset=\"50%\" side=\"left\" fill=\"currentColor\" text-anchor=\"middle\">acomp</textPath>\n",
       "    </text>\n",
       "    <path class=\"displacy-arrowhead\" d=\"M1440.0,266.5 L1448.0,254.5 1432.0,254.5\" fill=\"currentColor\"/>\n",
       "</g>\n",
       "\n",
       "<g class=\"displacy-arrow\">\n",
       "    <path class=\"displacy-arc\" id=\"arrow-925a25b11ccb49028cddb0286f15c989-0-8\" stroke-width=\"2px\" d=\"M1470,264.5 C1470,177.0 1615.0,177.0 1615.0,264.5\" fill=\"none\" stroke=\"currentColor\"/>\n",
       "    <text dy=\"1.25em\" style=\"font-size: 0.8em; letter-spacing: 1px\">\n",
       "        <textPath xlink:href=\"#arrow-925a25b11ccb49028cddb0286f15c989-0-8\" class=\"displacy-label\" startOffset=\"50%\" side=\"left\" fill=\"currentColor\" text-anchor=\"middle\">prep</textPath>\n",
       "    </text>\n",
       "    <path class=\"displacy-arrowhead\" d=\"M1615.0,266.5 L1623.0,254.5 1607.0,254.5\" fill=\"currentColor\"/>\n",
       "</g>\n",
       "\n",
       "<g class=\"displacy-arrow\">\n",
       "    <path class=\"displacy-arc\" id=\"arrow-925a25b11ccb49028cddb0286f15c989-0-9\" stroke-width=\"2px\" d=\"M1820,264.5 C1820,177.0 1965.0,177.0 1965.0,264.5\" fill=\"none\" stroke=\"currentColor\"/>\n",
       "    <text dy=\"1.25em\" style=\"font-size: 0.8em; letter-spacing: 1px\">\n",
       "        <textPath xlink:href=\"#arrow-925a25b11ccb49028cddb0286f15c989-0-9\" class=\"displacy-label\" startOffset=\"50%\" side=\"left\" fill=\"currentColor\" text-anchor=\"middle\">poss</textPath>\n",
       "    </text>\n",
       "    <path class=\"displacy-arrowhead\" d=\"M1820,266.5 L1812,254.5 1828,254.5\" fill=\"currentColor\"/>\n",
       "</g>\n",
       "\n",
       "<g class=\"displacy-arrow\">\n",
       "    <path class=\"displacy-arc\" id=\"arrow-925a25b11ccb49028cddb0286f15c989-0-10\" stroke-width=\"2px\" d=\"M1645,264.5 C1645,89.5 1970.0,89.5 1970.0,264.5\" fill=\"none\" stroke=\"currentColor\"/>\n",
       "    <text dy=\"1.25em\" style=\"font-size: 0.8em; letter-spacing: 1px\">\n",
       "        <textPath xlink:href=\"#arrow-925a25b11ccb49028cddb0286f15c989-0-10\" class=\"displacy-label\" startOffset=\"50%\" side=\"left\" fill=\"currentColor\" text-anchor=\"middle\">pobj</textPath>\n",
       "    </text>\n",
       "    <path class=\"displacy-arrowhead\" d=\"M1970.0,266.5 L1978.0,254.5 1962.0,254.5\" fill=\"currentColor\"/>\n",
       "</g>\n",
       "\n",
       "<g class=\"displacy-arrow\">\n",
       "    <path class=\"displacy-arc\" id=\"arrow-925a25b11ccb49028cddb0286f15c989-0-11\" stroke-width=\"2px\" d=\"M1995,264.5 C1995,177.0 2140.0,177.0 2140.0,264.5\" fill=\"none\" stroke=\"currentColor\"/>\n",
       "    <text dy=\"1.25em\" style=\"font-size: 0.8em; letter-spacing: 1px\">\n",
       "        <textPath xlink:href=\"#arrow-925a25b11ccb49028cddb0286f15c989-0-11\" class=\"displacy-label\" startOffset=\"50%\" side=\"left\" fill=\"currentColor\" text-anchor=\"middle\">cc</textPath>\n",
       "    </text>\n",
       "    <path class=\"displacy-arrowhead\" d=\"M2140.0,266.5 L2148.0,254.5 2132.0,254.5\" fill=\"currentColor\"/>\n",
       "</g>\n",
       "\n",
       "<g class=\"displacy-arrow\">\n",
       "    <path class=\"displacy-arc\" id=\"arrow-925a25b11ccb49028cddb0286f15c989-0-12\" stroke-width=\"2px\" d=\"M1995,264.5 C1995,89.5 2320.0,89.5 2320.0,264.5\" fill=\"none\" stroke=\"currentColor\"/>\n",
       "    <text dy=\"1.25em\" style=\"font-size: 0.8em; letter-spacing: 1px\">\n",
       "        <textPath xlink:href=\"#arrow-925a25b11ccb49028cddb0286f15c989-0-12\" class=\"displacy-label\" startOffset=\"50%\" side=\"left\" fill=\"currentColor\" text-anchor=\"middle\">conj</textPath>\n",
       "    </text>\n",
       "    <path class=\"displacy-arrowhead\" d=\"M2320.0,266.5 L2328.0,254.5 2312.0,254.5\" fill=\"currentColor\"/>\n",
       "</g>\n",
       "</svg></span>"
      ],
      "text/plain": [
       "<IPython.core.display.HTML object>"
      ]
     },
     "metadata": {},
     "output_type": "display_data"
    }
   ],
   "source": [
    "doc = nlp(such_as_sentences[2])\n",
    "\n",
    "displacy.render(doc, style=\"dep\")"
   ]
  },
  {
   "cell_type": "markdown",
   "id": "3c9c5836-787b-48e4-8290-500d31129a6b",
   "metadata": {},
   "source": [
    "#### 3.1 a) Implement Basic Hearst Pattern (8 Points)\n",
    "\n",
    "As you can see, the dependency tree gives a very good idea how to find the **X** and the **Y** in the **X, such as Y** pattern.\n",
    "\n",
    "**Task: Implement the  method `extract_such_as_hyponyms()` to extract all \"X, such as Y\" hyponym relationships in a sentence!** While you can do this however you want, we recommend using the spaCy and the resulting dependency tree for each sentence. (Hint: Have a look at the documentation for [spaCy tokens](https://spacy.io/api/token); particularly [`Token.conjuncts`](https://spacy.io/api/token#conjuncts), [`Token.ancestors`](https://spacy.io/api/token#ancestors), and [`token.children`](https://spacy.io/api/token#children) might come in very handy!)\n",
    "\n",
    "We also provide you with the method `get_compound()` to get all tokens that form a compound word (e.g., \"action movies\")\n",
    "\n",
    "**IMPORTANT:** In this subtask, you only need to get the correct results for the example sentences; cf. the expected outcome below. Also, depending on your exact setup, you might miss some relationships, mainly *\"jogging\" IS-A \"exercise\"* and/or *\"running\" IS-A \"exercise\"*. This can be caused if the POS tagger will tag *jogging* and *running* as a noun or a verb. In the latter case, you won't get those relationships. It's perfectly fine if that is the case, you don't need to fix this!\n"
   ]
  },
  {
   "cell_type": "code",
   "execution_count": 23,
   "id": "2b5cd90b-7eef-4a33-9f70-20d761283a2a",
   "metadata": {},
   "outputs": [
    {
     "name": "stdout",
     "output_type": "stream",
     "text": [
      "\"predator\" IS-A \"action movie\"\n",
      "\"rollerball\" IS-A \"action movie\"\n",
      "\"die hard\" IS-A \"action movie\"\n",
      "\"mango\" IS-A \"fruit\"\n",
      "\"banana\" IS-A \"fruit\"\n",
      "\"pineapple\" IS-A \"fruit\"\n",
      "\"running\" IS-A \"exercise\"\n",
      "\"jog\" IS-A \"exercise\"\n",
      "\"chicago\" IS-A \"place\"\n",
      "\"san francisco\" IS-A \"place\"\n",
      "\"los angeles\" IS-A \"place\"\n"
     ]
    }
   ],
   "source": [
    "rel_extractor = MyRelationExtractor()\n",
    "\n",
    "hyponyms = []\n",
    "for s in such_as_sentences:\n",
    "    hyponyms.extend(rel_extractor.extract_hyponyms(s))\n",
    "    \n",
    "for h in hyponyms:\n",
    "    print('\"{}\" IS-A \"{}\"'.format(h[0], h[1]))"
   ]
  },
  {
   "cell_type": "markdown",
   "id": "836ee71a-2338-4ef1-9916-8ba79f2b524c",
   "metadata": {},
   "source": [
    "The expected output of the code cell above is:\n",
    "\n",
    "```\n",
    "\"die hard\" IS-A \"action movie\"\n",
    "\"predator\" IS-A \"action movie\"\n",
    "\"rollerball\" IS-A \"action movie\"\n",
    "\"pineapple\" IS-A \"fruit\"\n",
    "\"mango\" IS-A \"fruit\"\n",
    "\"banana\" IS-A \"fruit\"\n",
    "\"jogging\" IS-A \"exercise\"\n",
    "\"running\" IS-A \"exercise\"\n",
    "\"los angeles\" IS-A \"place\"\n",
    "\"chicago\" IS-A \"place\"\n",
    "\"san francisco\" IS-A \"place\"\n",
    "```"
   ]
  },
  {
   "cell_type": "markdown",
   "id": "f36f0e22-bcd4-4d56-a982-159d2fe3b0e4",
   "metadata": {},
   "source": [
    "#### 3.1 b) Limitations, Challenges, and Potential Improvements (5 Points)\n",
    "\n",
    "If your implementation of `extract_such_as_hyponyms()` handles all 4 example sentences correctly then this is a good start. However, and this shouldn't be surprising, your method is unlikely to be perfect. Let's do some critical analysis of your implementation. **There is nothing to implement here!**\n",
    "\n",
    "**Question: What are the limitations of your `extract_such_as_hyponyms()` method?** Hint: Come up with additional example sentences where the results in terms of found hyponym relationships are not as expected or at least questions. For each example, **briefly** describe the reason for the incorrect/questionable result, and **briefly** sketch an idea for a possible solution. If your implementation is indeed perfect, and you have nothing to report for 3.1 b), we will acknowledge this :).\n",
    "\n",
    "\n",
    "**Your Answer:**\n",
    "1) Complex Sentence Structure: The implemented method does not correctly identify hyponym-hypernym relation in complex sentences. For example, 'He loves celebrating events such as the festival of Holi' this sentence returns 'festival is a event', it should return 'holi is a event'. **Potential Solution**: Improve the dependency parsing and pattern matching to handle nested structures.\n",
    "2) Compound Words: If the sentence fails to identify compound word then it might lead to incorrect results. For example,  'He acted in many plays such as welcoming neighbors, bad neighbors' this sentence returns 'welcome is a play', it should return 'welcoming neighbors is a play'. **Potential Solution**: Make use of punctuation marks and improve dependency parsing.\n",
    "3) Noun phrases: If the sentence contain noun phrase then this might lead to incorrect results. For example, 'Common flavors of ice cream such as chocolate and vanilla are my favorite' this sentence returns 'vanilla is a ice cream', it should return 'vanilla is a flavor'. **Potential Solution**: Improve pattern matching (look for tokens not just before 'such as') and then make use of dependecy parsing.\n",
    "4) Conjuncts: If the sentence has compound conjuncts, then this might fail to identify certain conjuncts. For example, 'He likes activities such as mountain climbing, rock climbing' this sentence only identifies 'mountain climbing is a activity' and fails to identify 'rock climbing is a activity'. **Potential Solution**: Look for parents of the tokens is 'as' and not just children of 'as'.\n",
    "5) Context: The result might not reflect the context in which it is intended and incorrectly identify hypernym. For example, 'He likes activities which are adventurous such as mountain climbing, rock climbing' this returns 'mountain climbing is a adventure', while this is not necessarily incorrect, but depending on the context, the result might be more accurate if it return 'mountain climbing is a activity'. **Potential Solution**: This is a challenge and might need context information or text of previous sentences to effectively parse."
   ]
  },
  {
   "cell_type": "markdown",
   "id": "e5a25868-7d06-4ca8-8450-61ddc025284c",
   "metadata": {},
   "source": []
  },
  {
   "cell_type": "markdown",
   "id": "f9f1b069-6574-4150-83a3-207e2eef8ed7",
   "metadata": {},
   "source": [
    "### 3.2 Entity Linking (5 Points)\n",
    "\n",
    "In 3.1, we extracted hyponym relationships from sentences, but so far we only have the mentions -- that is, the phrases that represent named entities or concepts in a hyponym relationship. What we often want in practice is to link those mentions to their corresponding real-world entities or concepts. The goal is to disambiguate named entities or phrases by linking them to their respective nodes in a knowledge graph -- or create or extend an existing knowledge graph.\n",
    "\n",
    "While there are many different approaches, this is of course not a trivial task to get it right. A very basic one is to use a search or text retrieval engine to return the most likely knowledge graph node for a given mention (used as a search term). The class `MyRelationExtractor` already provides you with a simple method `get_wikipedia_urls()` that returns to top-k Wikipedia article URLs for a given search term. You can use the code cell below to check it out:\n"
   ]
  },
  {
   "cell_type": "code",
   "execution_count": 24,
   "id": "af952666-cde6-4a2c-81d9-92a362f8976a",
   "metadata": {},
   "outputs": [
    {
     "data": {
      "text/plain": [
       "['https://en.wikipedia.org/wiki/Game_of_Thrones',\n",
       " 'https://en.wikipedia.org/wiki/A_Song_of_Ice_and_Fire',\n",
       " 'https://en.wikipedia.org/wiki/Game_of_Thrones_(2014_video_game)',\n",
       " 'https://en.wikipedia.org/wiki/Game_of_Thrones_(2012_video_game)',\n",
       " 'https://en.wikipedia.org/wiki/Game_of_Thrones_season_1',\n",
       " 'https://en.wikipedia.org/wiki/Game_of_Thrones_season_2']"
      ]
     },
     "execution_count": 24,
     "metadata": {},
     "output_type": "execute_result"
    }
   ],
   "source": [
    "rel_extractor.get_wikipedia_urls(\"game of thrones\", topk=15)"
   ]
  },
  {
   "cell_type": "markdown",
   "id": "54a3ad8a-906e-42c0-a771-1e7b1f339a5f",
   "metadata": {},
   "source": [
    "Using the method `get_wikipedia_urls()`, we can now convert the mentions forming the hyponym relationships we found in 3.1 into their respective Wikipedia article URLs."
   ]
  },
  {
   "cell_type": "code",
   "execution_count": 25,
   "id": "1fa514e3-1198-48e6-985f-cf4da8524eac",
   "metadata": {},
   "outputs": [
    {
     "name": "stdout",
     "output_type": "stream",
     "text": [
      "https://en.wikipedia.org/wiki/Predation IS-A https://en.wikipedia.org/wiki/Action_film\n",
      "https://en.wikipedia.org/wiki/Rollerball_(1975_film) IS-A https://en.wikipedia.org/wiki/Action_film\n",
      "https://en.wikipedia.org/wiki/Die_Hard IS-A https://en.wikipedia.org/wiki/Action_film\n",
      "https://en.wikipedia.org/wiki/Mango IS-A https://en.wikipedia.org/wiki/Fruit\n",
      "https://en.wikipedia.org/wiki/Banana IS-A https://en.wikipedia.org/wiki/Fruit\n",
      "https://en.wikipedia.org/wiki/Pineapple IS-A https://en.wikipedia.org/wiki/Fruit\n",
      "https://en.wikipedia.org/wiki/Running IS-A https://en.wikipedia.org/wiki/Exercise\n",
      "https://en.wikipedia.org/wiki/Zionist_Occupation_Government_conspiracy_theory IS-A https://en.wikipedia.org/wiki/Exercise\n",
      "https://en.wikipedia.org/wiki/Chicago IS-A https://en.wikipedia.org/wiki/Location\n",
      "https://en.wikipedia.org/wiki/San_Francisco IS-A https://en.wikipedia.org/wiki/Location\n",
      "https://en.wikipedia.org/wiki/Los_Angeles IS-A https://en.wikipedia.org/wiki/Location\n"
     ]
    }
   ],
   "source": [
    "for h in hyponyms:\n",
    "    X = rel_extractor.get_wikipedia_urls(h[0])[0]\n",
    "    Y = rel_extractor.get_wikipedia_urls(h[1])[0]\n",
    "    print('{} IS-A {}'.format(X, Y))"
   ]
  },
  {
   "cell_type": "markdown",
   "id": "a849b621-f872-4378-bb92-e22ebd3f8ff5",
   "metadata": {},
   "source": [
    "The output should look like this:\n",
    "\n",
    "```\n",
    "https://en.wikipedia.org/wiki/Die_Hard IS-A https://en.wikipedia.org/wiki/Action_film\n",
    "https://en.wikipedia.org/wiki/Predator_(film) IS-A https://en.wikipedia.org/wiki/Action_film\n",
    "https://en.wikipedia.org/wiki/Rollerball_(1975_film) IS-A https://en.wikipedia.org/wiki/Action_film\n",
    "https://en.wikipedia.org/wiki/Pineapple IS-A https://en.wikipedia.org/wiki/Culinary_fruit\n",
    "https://en.wikipedia.org/wiki/Mango IS-A https://en.wikipedia.org/wiki/Culinary_fruit\n",
    "https://en.wikipedia.org/wiki/Banana IS-A https://en.wikipedia.org/wiki/Culinary_fruit\n",
    "https://en.wikipedia.org/wiki/Jogging IS-A https://en.wikipedia.org/wiki/Exercise\n",
    "https://en.wikipedia.org/wiki/Running IS-A https://en.wikipedia.org/wiki/Exercise\n",
    "https://en.wikipedia.org/wiki/Los_Angeles IS-A https://en.wikipedia.org/wiki/Region\n",
    "https://en.wikipedia.org/wiki/Chicago IS-A https://en.wikipedia.org/wiki/Region\n",
    "https://en.wikipedia.org/wiki/San_Francisco IS-A https://en.wikipedia.org/wiki/Region\n",
    "```"
   ]
  },
  {
   "cell_type": "markdown",
   "id": "14179331-dad7-4823-a4cf-79111166f7a6",
   "metadata": {},
   "source": [
    "#### 3.2 a) Limitations, Challenges, and Potential Improvements (5 Points)\n",
    "\n",
    "Similar to 3.1, everything works out quite nicely since the example sentences are rather \"convenient\". So once again, we should discuss when this approach might fail and why, as well as contemplate how we could address this in practice. **There is nothing to implement here!**\n",
    "\n",
    "**Question: What are the limitations of the `get_wikipedia_urls()` method?** Hint: Come up with examples the results in terms of found Wikipedia articles URLs are wrong or at least questionable. For each example, **briefly** describe what the reason for the incorrect/questionable result might be, and **briefly** sketch any extension to the method `get_wikipedia_urls()` for improvements.\n",
    "\n",
    "**Your Answer:**\n",
    "1) Context: This method fails to identify the context of hyponym and hypernym and just gives top result. For example (Apple, Tech) this should return page of 'Apple the tech company' however it gives page of 'fruit'. This is because it treats all words equally and does not take context into consideration. **Potential Extension of solution**: To consider context, filter the links that contain both hyponym and hypernym.\n",
    "2) Out of Vocabulary Words: This method does not retrive any links if it is not able to fetch results for a text: For example (Apple Tech, Innovation) will throw an error because it cannot fetch 'Apple Tech'. Potential **Extension**: Split the hyponym and then retrive the results.\n",
    "3) Single Source Dependency: The implemented method is only on wikipedia api which limits the scope and gives irrelevant links at times. For example (Mississippi, Bank) should give details about Mississippi river bank but it gives url of city Mississippi and gives url of a finanacial bank. **Potential Extension**: Give results from diverse sources. If domain knowledge is known then use the api of the domain specific apis if available.\n",
    "4) Limited Results: Since this implementation gives only top result for a word, it misses out on potential results which are lower in rank, thus under emphasizing certain links. **Potential Improvement**: Give links more weightage if it has the relevant keyword (for example joining hyponym and hypernym might act as a keyword) and then re-rank the results. One more solution might be to consider results from diverse apis and then have a voting.\n",
    "5) Multi Positional Word: This implementation might fail to correctly identify the links if the word is a multi functional word. For example, run can be a noun, adjective, adverb or a verb. This implementation only gives links for running as an exercise. **Extension**: Use POS tagging while searching and then rank the results."
   ]
  },
  {
   "cell_type": "markdown",
   "id": "74ed9a47-efa0-4a0e-8292-da56429488aa",
   "metadata": {},
   "source": []
  }
 ],
 "metadata": {
  "kernelspec": {
   "display_name": "Python 3 (ipykernel)",
   "language": "python",
   "name": "python3"
  },
  "language_info": {
   "codemirror_mode": {
    "name": "ipython",
    "version": 3
   },
   "file_extension": ".py",
   "mimetype": "text/x-python",
   "name": "python",
   "nbconvert_exporter": "python",
   "pygments_lexer": "ipython3",
   "version": "3.11.4"
  }
 },
 "nbformat": 4,
 "nbformat_minor": 5
}
